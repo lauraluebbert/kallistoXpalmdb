{
  "nbformat": 4,
  "nbformat_minor": 0,
  "metadata": {
    "colab": {
      "provenance": [],
      "gpuType": "T4",
      "include_colab_link": true
    },
    "kernelspec": {
      "name": "python3",
      "display_name": "Python 3"
    },
    "language_info": {
      "name": "python"
    },
    "gpuClass": "standard"
  },
  "cells": [
    {
      "cell_type": "markdown",
      "metadata": {
        "id": "view-in-github",
        "colab_type": "text"
      },
      "source": [
        "<a href=\"https://colab.research.google.com/github/lauraluebbert/kallistoXpalmdb/blob/main/kallistoXpalmDB_tutorial.ipynb\" target=\"_parent\"><img src=\"https://colab.research.google.com/assets/colab-badge.svg\" alt=\"Open In Colab\"/></a>"
      ]
    },
    {
      "cell_type": "markdown",
      "source": [
        "# kallisto X PalmDB tutorial\n",
        "\n",
        "This is a simple pre-release tutorial introducig the new `--aa` option of [kallisto](https://www.nature.com/articles/s41587-021-00870-2) to generate count matrices from scRNAseq data using an amino acid referece. Here, we will use this option in combination with the [PalmDB database](https://www.nature.com/articles/s41586-021-04332-2) to find viral sequences in [Rhesus macaques infected with Ebolavirus](https://pubmed.ncbi.nlm.nih.gov/33159858/)."
      ],
      "metadata": {
        "id": "zKAMqEdz4R3n"
      }
    },
    {
      "cell_type": "code",
      "source": [
        "# Install ffq (https://github.com/pachterlab/ffq) and gget (https://github.com/pachterlab/gget) for simplified data download\n",
        "!pip install -q anndata gget ffq\n",
        "\n",
        "import anndata\n",
        "import pandas as pd\n",
        "import numpy as np\n",
        "import matplotlib.pyplot as plt\n",
        "\n",
        "def nd(arr):\n",
        "    \"\"\"\n",
        "    Function to transform numpy matrix to nd array.\n",
        "    \"\"\"\n",
        "    return np.asarray(arr).reshape(-1)"
      ],
      "metadata": {
        "id": "VkA-4EjdI5ym",
        "outputId": "53672ed1-4d8f-40f9-f2c3-7eac68e58d4e",
        "colab": {
          "base_uri": "https://localhost:8080/"
        }
      },
      "execution_count": 1,
      "outputs": [
        {
          "output_type": "stream",
          "name": "stdout",
          "text": [
            "\u001b[2K     \u001b[90m━━━━━━━━━━━━━━━━━━━━━━━━━━━━━━━━━━━━━━━\u001b[0m \u001b[32m103.0/103.0 kB\u001b[0m \u001b[31m2.9 MB/s\u001b[0m eta \u001b[36m0:00:00\u001b[0m\n",
            "\u001b[2K     \u001b[90m━━━━━━━━━━━━━━━━━━━━━━━━━━━━━━━━━━━━━━━━\u001b[0m \u001b[32m2.2/2.2 MB\u001b[0m \u001b[31m29.4 MB/s\u001b[0m eta \u001b[36m0:00:00\u001b[0m\n",
            "\u001b[2K     \u001b[90m━━━━━━━━━━━━━━━━━━━━━━━━━━━━━━━━━━━━━━━━\u001b[0m \u001b[32m25.2/25.2 MB\u001b[0m \u001b[31m37.7 MB/s\u001b[0m eta \u001b[36m0:00:00\u001b[0m\n",
            "\u001b[2K     \u001b[90m━━━━━━━━━━━━━━━━━━━━━━━━━━━━━━━━━━━━━━━━\u001b[0m \u001b[32m71.9/71.9 kB\u001b[0m \u001b[31m7.1 MB/s\u001b[0m eta \u001b[36m0:00:00\u001b[0m\n",
            "\u001b[2K     \u001b[90m━━━━━━━━━━━━━━━━━━━━━━━━━━━━━━━━━━━━━━━━\u001b[0m \u001b[32m11.2/11.2 MB\u001b[0m \u001b[31m80.1 MB/s\u001b[0m eta \u001b[36m0:00:00\u001b[0m\n",
            "\u001b[2K     \u001b[90m━━━━━━━━━━━━━━━━━━━━━━━━━━━━━━━━━━━━━━━━\u001b[0m \u001b[32m20.7/20.7 MB\u001b[0m \u001b[31m65.9 MB/s\u001b[0m eta \u001b[36m0:00:00\u001b[0m\n",
            "\u001b[2K     \u001b[90m━━━━━━━━━━━━━━━━━━━━━━━━━━━━━━━━━━━━━━━━\u001b[0m \u001b[32m2.0/2.0 MB\u001b[0m \u001b[31m85.7 MB/s\u001b[0m eta \u001b[36m0:00:00\u001b[0m\n",
            "\u001b[2K     \u001b[90m━━━━━━━━━━━━━━━━━━━━━━━━━━━━━━━━━━━━━━━━\u001b[0m \u001b[32m1.6/1.6 MB\u001b[0m \u001b[31m63.0 MB/s\u001b[0m eta \u001b[36m0:00:00\u001b[0m\n",
            "\u001b[2K     \u001b[90m━━━━━━━━━━━━━━━━━━━━━━━━━━━━━━━━━━━━━━━━\u001b[0m \u001b[32m1.0/1.0 MB\u001b[0m \u001b[31m60.0 MB/s\u001b[0m eta \u001b[36m0:00:00\u001b[0m\n",
            "\u001b[2K     \u001b[90m━━━━━━━━━━━━━━━━━━━━━━━━━━━━━━━━━━━━━━\u001b[0m \u001b[32m114.5/114.5 kB\u001b[0m \u001b[31m11.0 MB/s\u001b[0m eta \u001b[36m0:00:00\u001b[0m\n",
            "\u001b[2K     \u001b[90m━━━━━━━━━━━━━━━━━━━━━━━━━━━━━━━━━━━━━━\u001b[0m \u001b[32m268.8/268.8 kB\u001b[0m \u001b[31m16.9 MB/s\u001b[0m eta \u001b[36m0:00:00\u001b[0m\n",
            "\u001b[2K     \u001b[90m━━━━━━━━━━━━━━━━━━━━━━━━━━━━━━━━━━━━━━\u001b[0m \u001b[32m149.6/149.6 kB\u001b[0m \u001b[31m13.2 MB/s\u001b[0m eta \u001b[36m0:00:00\u001b[0m\n",
            "\u001b[2K     \u001b[90m━━━━━━━━━━━━━━━━━━━━━━━━━━━━━━━━━━━━━━━━\u001b[0m \u001b[32m72.7/72.7 kB\u001b[0m \u001b[31m7.4 MB/s\u001b[0m eta \u001b[36m0:00:00\u001b[0m\n",
            "\u001b[2K     \u001b[90m━━━━━━━━━━━━━━━━━━━━━━━━━━━━━━━━━━━━━━\u001b[0m \u001b[32m160.1/160.1 kB\u001b[0m \u001b[31m14.2 MB/s\u001b[0m eta \u001b[36m0:00:00\u001b[0m\n",
            "\u001b[2K     \u001b[90m━━━━━━━━━━━━━━━━━━━━━━━━━━━━━━━━━━━━━━━━\u001b[0m \u001b[32m10.4/10.4 MB\u001b[0m \u001b[31m21.4 MB/s\u001b[0m eta \u001b[36m0:00:00\u001b[0m\n",
            "\u001b[2K     \u001b[90m━━━━━━━━━━━━━━━━━━━━━━━━━━━━━━━━━━━━━━━━\u001b[0m \u001b[32m88.2/88.2 kB\u001b[0m \u001b[31m9.4 MB/s\u001b[0m eta \u001b[36m0:00:00\u001b[0m\n",
            "\u001b[?25h  Preparing metadata (setup.py) ... \u001b[?25l\u001b[?25hdone\n",
            "  Preparing metadata (setup.py) ... \u001b[?25l\u001b[?25hdone\n",
            "\u001b[2K     \u001b[90m━━━━━━━━━━━━━━━━━━━━━━━━━━━━━━━━━━━━━━━━\u001b[0m \u001b[32m1.1/1.1 MB\u001b[0m \u001b[31m73.9 MB/s\u001b[0m eta \u001b[36m0:00:00\u001b[0m\n",
            "\u001b[?25h  Preparing metadata (setup.py) ... \u001b[?25l\u001b[?25hdone\n",
            "\u001b[2K     \u001b[90m━━━━━━━━━━━━━━━━━━━━━━━━━━━━━━━━━━━━━━━━\u001b[0m \u001b[32m63.5/63.5 kB\u001b[0m \u001b[31m6.1 MB/s\u001b[0m eta \u001b[36m0:00:00\u001b[0m\n",
            "\u001b[?25h  Building wheel for umap-learn (setup.py) ... \u001b[?25l\u001b[?25hdone\n",
            "  Building wheel for session-info (setup.py) ... \u001b[?25l\u001b[?25hdone\n",
            "  Building wheel for pynndescent (setup.py) ... \u001b[?25l\u001b[?25hdone\n"
          ]
        }
      ]
    },
    {
      "cell_type": "markdown",
      "source": [
        "# Install kallisto from the dev branch"
      ],
      "metadata": {
        "id": "5ddSnwmkAw6k"
      }
    },
    {
      "cell_type": "markdown",
      "source": [
        "Next, we will install the kallisto bustools wrapper [`kb-python`](https://github.com/pachterlab/kb_python) and compile kallisto from the development branch (after the official release, this will become just `pip install kb-python`):"
      ],
      "metadata": {
        "id": "Y9uFetKXIzSO"
      }
    },
    {
      "cell_type": "code",
      "source": [
        "# Install kb_python and kallisto from dev branch\n",
        "!pip install -q git+https://github.com/pachterlab/kb_python.git@dlist\n",
        "!git clone https://github.com/pachterlab/kallisto-D.git\n",
        "!mkdir kallisto-D/build && cd kallisto-D/build && cmake .. && make && make install"
      ],
      "metadata": {
        "colab": {
          "base_uri": "https://localhost:8080/"
        },
        "id": "_icuVIGtIMDQ",
        "outputId": "d0eaa1b2-fb82-4944-ffdb-89d19acf7338"
      },
      "execution_count": 2,
      "outputs": [
        {
          "output_type": "stream",
          "name": "stdout",
          "text": [
            "  Preparing metadata (setup.py) ... \u001b[?25l\u001b[?25hdone\n",
            "\u001b[2K     \u001b[90m━━━━━━━━━━━━━━━━━━━━━━━━━━━━━━━━━━━━━━━━\u001b[0m \u001b[32m4.8/4.8 MB\u001b[0m \u001b[31m17.8 MB/s\u001b[0m eta \u001b[36m0:00:00\u001b[0m\n",
            "\u001b[?25h  Preparing metadata (setup.py) ... \u001b[?25l\u001b[?25hdone\n",
            "\u001b[2K     \u001b[90m━━━━━━━━━━━━━━━━━━━━━━━━━━━━━━━━━━━━━━━━\u001b[0m \u001b[32m45.2/45.2 MB\u001b[0m \u001b[31m2.4 MB/s\u001b[0m eta \u001b[36m0:00:00\u001b[0m\n",
            "\u001b[?25h  Preparing metadata (setup.py) ... \u001b[?25l\u001b[?25hdone\n",
            "\u001b[2K     \u001b[90m━━━━━━━━━━━━━━━━━━━━━━━━━━━━━━━━━━━━━━━━\u001b[0m \u001b[32m53.3/53.3 kB\u001b[0m \u001b[31m4.5 MB/s\u001b[0m eta \u001b[36m0:00:00\u001b[0m\n",
            "\u001b[?25h  Preparing metadata (setup.py) ... \u001b[?25l\u001b[?25hdone\n",
            "\u001b[2K     \u001b[90m━━━━━━━━━━━━━━━━━━━━━━━━━━━━━━━━━━━━━━━━\u001b[0m \u001b[32m20.0/20.0 MB\u001b[0m \u001b[31m21.7 MB/s\u001b[0m eta \u001b[36m0:00:00\u001b[0m\n",
            "\u001b[?25h  Building wheel for kb-python (setup.py) ... \u001b[?25l\u001b[?25hdone\n",
            "  Building wheel for loompy (setup.py) ... \u001b[?25l\u001b[?25hdone\n",
            "  Building wheel for ngs-tools (setup.py) ... \u001b[?25l\u001b[?25hdone\n",
            "  Building wheel for numpy-groupies (setup.py) ... \u001b[?25l\u001b[?25hdone\n",
            "Cloning into 'kallisto-D'...\n",
            "remote: Enumerating objects: 7509, done.\u001b[K\n",
            "remote: Counting objects: 100% (310/310), done.\u001b[K\n",
            "remote: Compressing objects: 100% (128/128), done.\u001b[K\n",
            "remote: Total 7509 (delta 216), reused 262 (delta 182), pack-reused 7199\u001b[K\n",
            "Receiving objects: 100% (7509/7509), 8.50 MiB | 13.98 MiB/s, done.\n",
            "Resolving deltas: 100% (4968/4968), done.\n",
            "-- The C compiler identification is GNU 9.4.0\n",
            "-- The CXX compiler identification is GNU 9.4.0\n",
            "-- Detecting C compiler ABI info\n",
            "-- Detecting C compiler ABI info - done\n",
            "-- Check for working C compiler: /usr/bin/cc - skipped\n",
            "-- Detecting C compile features\n",
            "-- Detecting C compile features - done\n",
            "-- Detecting CXX compiler ABI info\n",
            "-- Detecting CXX compiler ABI info - done\n",
            "-- Check for working CXX compiler: /usr/bin/c++ - skipped\n",
            "-- Detecting CXX compile features\n",
            "-- Detecting CXX compile features - done\n",
            "-- Performing Test COMPILER_SUPPORTS_CXX17\n",
            "-- Performing Test COMPILER_SUPPORTS_CXX17 - Success\n",
            "\u001b[0mshared build\u001b[0m\n",
            "-- Performing Test CMAKE_HAVE_LIBC_PTHREAD\n",
            "-- Performing Test CMAKE_HAVE_LIBC_PTHREAD - Failed\n",
            "-- Looking for pthread_create in pthreads\n",
            "-- Looking for pthread_create in pthreads - not found\n",
            "-- Looking for pthread_create in pthread\n",
            "-- Looking for pthread_create in pthread - found\n",
            "-- Found Threads: TRUE  \n",
            "-- Found ZLIB: /usr/lib/x86_64-linux-gnu/libz.so (found version \"1.2.11\") \n",
            "-- Configuring done\n",
            "-- Generating done\n",
            "-- Build files have been written to: /content/kallisto-D/build\n",
            "[  3%] \u001b[34m\u001b[1mCreating directories for 'bifrost'\u001b[0m\n",
            "[  7%] \u001b[34m\u001b[1mNo download step for 'bifrost'\u001b[0m\n",
            "[ 11%] \u001b[34m\u001b[1mNo update step for 'bifrost'\u001b[0m\n",
            "[ 15%] \u001b[34m\u001b[1mNo patch step for 'bifrost'\u001b[0m\n",
            "[ 19%] \u001b[34m\u001b[1mPerforming configure step for 'bifrost'\u001b[0m\n",
            "-- The C compiler identification is GNU 9.4.0\n",
            "-- The CXX compiler identification is GNU 9.4.0\n",
            "-- Detecting C compiler ABI info\n",
            "-- Detecting C compiler ABI info - done\n",
            "-- Check for working C compiler: /usr/bin/cc - skipped\n",
            "-- Detecting C compile features\n",
            "-- Detecting C compile features - done\n",
            "-- Detecting CXX compiler ABI info\n",
            "-- Detecting CXX compiler ABI info - done\n",
            "-- Check for working CXX compiler: /usr/bin/c++ - skipped\n",
            "-- Detecting CXX compile features\n",
            "-- Detecting CXX compile features - done\n",
            "\u001b[0mCompilation architecture: native\u001b[0m\n",
            "\u001b[0mBuild type: Release\u001b[0m\n",
            "\u001b[0mMaximum k-mer size: 31\u001b[0m\n",
            "\u001b[0mMaximum g-mer size: 31\u001b[0m\n",
            "-- Performing Test CMAKE_HAVE_LIBC_PTHREAD\n",
            "-- Performing Test CMAKE_HAVE_LIBC_PTHREAD - Failed\n",
            "-- Looking for pthread_create in pthreads\n",
            "-- Looking for pthread_create in pthreads - not found\n",
            "-- Looking for pthread_create in pthread\n",
            "-- Looking for pthread_create in pthread - found\n",
            "-- Found Threads: TRUE  \n",
            "-- Found ZLIB: /usr/lib/x86_64-linux-gnu/libz.so (found version \"1.2.11\") \n",
            "-- Configuring done\n",
            "-- Generating done\n",
            "-- Build files have been written to: /content/kallisto-D/ext/bifrost/build\n",
            "[ 23%] \u001b[34m\u001b[1mPerforming build step for 'bifrost'\u001b[0m\n",
            "[  3%] \u001b[32mBuilding CXX object src/CMakeFiles/bifrost_static.dir/Bifrost.cpp.o\u001b[0m\n",
            "[  6%] \u001b[32mBuilding CXX object src/CMakeFiles/bifrost_static.dir/BitContainer.cpp.o\u001b[0m\n",
            "[  9%] \u001b[32mBuilding CXX object src/CMakeFiles/bifrost_static.dir/BlockedBloomFilter.cpp.o\u001b[0m\n",
            "[ 12%] \u001b[32mBuilding CXX object src/CMakeFiles/bifrost_static.dir/ColorSet.cpp.o\u001b[0m\n",
            "[ 15%] \u001b[32mBuilding CXX object src/CMakeFiles/bifrost_static.dir/CompressedCoverage.cpp.o\u001b[0m\n",
            "[ 18%] \u001b[32mBuilding CXX object src/CMakeFiles/bifrost_static.dir/CompressedSequence.cpp.o\u001b[0m\n",
            "[ 21%] \u001b[32mBuilding CXX object src/CMakeFiles/bifrost_static.dir/FASTX_Parser.cpp.o\u001b[0m\n",
            "[ 25%] \u001b[32mBuilding CXX object src/CMakeFiles/bifrost_static.dir/GFA_Parser.cpp.o\u001b[0m\n",
            "[ 28%] \u001b[32mBuilding CXX object src/CMakeFiles/bifrost_static.dir/Kmer.cpp.o\u001b[0m\n",
            "[ 31%] \u001b[32mBuilding CXX object src/CMakeFiles/bifrost_static.dir/KmerIterator.cpp.o\u001b[0m\n",
            "[ 34%] \u001b[32mBuilding CXX object src/CMakeFiles/bifrost_static.dir/MinimizerIndex.cpp.o\u001b[0m\n",
            "[ 37%] \u001b[32mBuilding CXX object src/CMakeFiles/bifrost_static.dir/TinyBitmap.cpp.o\u001b[0m\n",
            "[ 40%] \u001b[32mBuilding CXX object src/CMakeFiles/bifrost_static.dir/UnitigMap.cpp.o\u001b[0m\n",
            "[ 43%] \u001b[32mBuilding C object src/CMakeFiles/bifrost_static.dir/roaring.c.o\u001b[0m\n",
            "[ 46%] \u001b[32m\u001b[1mLinking CXX static library libbifrost.a\u001b[0m\n",
            "[ 46%] Built target bifrost_static\n",
            "[ 50%] \u001b[32mBuilding CXX object src/CMakeFiles/bifrost_dynamic.dir/Bifrost.cpp.o\u001b[0m\n",
            "[ 53%] \u001b[32mBuilding CXX object src/CMakeFiles/bifrost_dynamic.dir/BitContainer.cpp.o\u001b[0m\n",
            "[ 56%] \u001b[32mBuilding CXX object src/CMakeFiles/bifrost_dynamic.dir/BlockedBloomFilter.cpp.o\u001b[0m\n",
            "[ 59%] \u001b[32mBuilding CXX object src/CMakeFiles/bifrost_dynamic.dir/ColorSet.cpp.o\u001b[0m\n",
            "[ 62%] \u001b[32mBuilding CXX object src/CMakeFiles/bifrost_dynamic.dir/CompressedCoverage.cpp.o\u001b[0m\n",
            "[ 65%] \u001b[32mBuilding CXX object src/CMakeFiles/bifrost_dynamic.dir/CompressedSequence.cpp.o\u001b[0m\n",
            "[ 68%] \u001b[32mBuilding CXX object src/CMakeFiles/bifrost_dynamic.dir/FASTX_Parser.cpp.o\u001b[0m\n",
            "[ 71%] \u001b[32mBuilding CXX object src/CMakeFiles/bifrost_dynamic.dir/GFA_Parser.cpp.o\u001b[0m\n",
            "[ 75%] \u001b[32mBuilding CXX object src/CMakeFiles/bifrost_dynamic.dir/Kmer.cpp.o\u001b[0m\n",
            "[ 78%] \u001b[32mBuilding CXX object src/CMakeFiles/bifrost_dynamic.dir/KmerIterator.cpp.o\u001b[0m\n",
            "[ 81%] \u001b[32mBuilding CXX object src/CMakeFiles/bifrost_dynamic.dir/MinimizerIndex.cpp.o\u001b[0m\n",
            "[ 84%] \u001b[32mBuilding CXX object src/CMakeFiles/bifrost_dynamic.dir/TinyBitmap.cpp.o\u001b[0m\n",
            "[ 87%] \u001b[32mBuilding CXX object src/CMakeFiles/bifrost_dynamic.dir/UnitigMap.cpp.o\u001b[0m\n",
            "[ 90%] \u001b[32mBuilding C object src/CMakeFiles/bifrost_dynamic.dir/roaring.c.o\u001b[0m\n",
            "[ 93%] \u001b[32m\u001b[1mLinking CXX shared library libbifrost.so\u001b[0m\n",
            "[ 93%] Built target bifrost_dynamic\n",
            "[ 96%] \u001b[32mBuilding CXX object src/CMakeFiles/Bifrost.dir/Bifrost.cpp.o\u001b[0m\n",
            "[100%] \u001b[32m\u001b[1mLinking CXX executable Bifrost\u001b[0m\n",
            "[100%] Built target Bifrost\n",
            "[ 26%] \u001b[34m\u001b[1mNo install step for 'bifrost'\u001b[0m\n",
            "[ 30%] \u001b[34m\u001b[1mCompleted 'bifrost'\u001b[0m\n",
            "[ 30%] Built target bifrost\n",
            "[ 34%] \u001b[32mBuilding CXX object src/CMakeFiles/kallisto_core.dir/BUSData.cpp.o\u001b[0m\n",
            "[ 38%] \u001b[32mBuilding CXX object src/CMakeFiles/kallisto_core.dir/BUSTools.cpp.o\u001b[0m\n",
            "[ 42%] \u001b[32mBuilding CXX object src/CMakeFiles/kallisto_core.dir/Bootstrap.cpp.o\u001b[0m\n",
            "[ 46%] \u001b[32mBuilding CXX object src/CMakeFiles/kallisto_core.dir/GeneModel.cpp.o\u001b[0m\n",
            "[ 50%] \u001b[32mBuilding CXX object src/CMakeFiles/kallisto_core.dir/H5Writer.cpp.o\u001b[0m\n",
            "[ 53%] \u001b[32mBuilding CXX object src/CMakeFiles/kallisto_core.dir/KmerIndex.cpp.o\u001b[0m\n",
            "[ 57%] \u001b[32mBuilding CXX object src/CMakeFiles/kallisto_core.dir/MinCollector.cpp.o\u001b[0m\n",
            "[ 61%] \u001b[32mBuilding CXX object src/CMakeFiles/kallisto_core.dir/PlaintextWriter.cpp.o\u001b[0m\n",
            "[ 65%] \u001b[32mBuilding CXX object src/CMakeFiles/kallisto_core.dir/ProcessReads.cpp.o\u001b[0m\n",
            "[ 69%] \u001b[32mBuilding CXX object src/CMakeFiles/kallisto_core.dir/PseudoBam.cpp.o\u001b[0m\n",
            "[ 73%] \u001b[32mBuilding CXX object src/CMakeFiles/kallisto_core.dir/common.cpp.o\u001b[0m\n",
            "[ 76%] \u001b[32mBuilding CXX object src/CMakeFiles/kallisto_core.dir/h5utils.cpp.o\u001b[0m\n",
            "[ 80%] \u001b[32mBuilding CXX object src/CMakeFiles/kallisto_core.dir/hash.cpp.o\u001b[0m\n",
            "[ 84%] \u001b[32mBuilding CXX object src/CMakeFiles/kallisto_core.dir/main.cpp.o\u001b[0m\n",
            "[ 88%] \u001b[32mBuilding CXX object src/CMakeFiles/kallisto_core.dir/weights.cpp.o\u001b[0m\n",
            "[ 92%] \u001b[32m\u001b[1mLinking CXX static library libkallisto_core.a\u001b[0m\n",
            "[ 92%] Built target kallisto_core\n",
            "[ 96%] \u001b[32mBuilding CXX object src/CMakeFiles/kallisto.dir/main.cpp.o\u001b[0m\n",
            "[100%] \u001b[32m\u001b[1mLinking CXX executable kallisto\u001b[0m\n",
            "[100%] Built target kallisto\n",
            "[ 30%] Built target bifrost\n",
            "[ 92%] Built target kallisto_core\n",
            "[100%] Built target kallisto\n",
            "\u001b[36mInstall the project...\u001b[0m\n",
            "-- Install configuration: \"Release\"\n",
            "-- Installing: /usr/local/bin/kallisto\n"
          ]
        }
      ]
    },
    {
      "cell_type": "markdown",
      "source": [
        "# Download reference and scRNAseq data"
      ],
      "metadata": {
        "id": "9diQpPTDA2BP"
      }
    },
    {
      "cell_type": "code",
      "source": [
        "# Download host transcriptome to mask host sequences in the virus index\n",
        "!gget ref -d -w dna macaca_mulatta"
      ],
      "metadata": {
        "id": "VtqWrGi6UDF3",
        "outputId": "6523eb7f-54d4-4258-a8b1-26025911bf09",
        "colab": {
          "base_uri": "https://localhost:8080/"
        }
      },
      "execution_count": 3,
      "outputs": [
        {
          "output_type": "stream",
          "name": "stdout",
          "text": [
            "Mon May 15 18:05:10 2023 INFO Fetching reference information for macaca_mulatta from Ensembl release: 109.\n",
            "{\n",
            "    \"macaca_mulatta\": {\n",
            "        \"genome_dna\": {\n",
            "            \"ftp\": \"http://ftp.ensembl.org/pub/release-109/fasta/macaca_mulatta/dna/Macaca_mulatta.Mmul_10.dna.toplevel.fa.gz\",\n",
            "            \"ensembl_release\": 109,\n",
            "            \"release_date\": \"2022-12-13\",\n",
            "            \"release_time\": \"00:13\",\n",
            "            \"bytes\": \"832M\"\n",
            "        }\n",
            "    }\n",
            "}\n",
            "  % Total    % Received % Xferd  Average Speed   Time    Time     Time  Current\n",
            "                                 Dload  Upload   Total   Spent    Left  Speed\n",
            "100  832M  100  832M    0     0   686k      0  0:20:41  0:20:41 --:--:--  686k\n"
          ]
        }
      ]
    },
    {
      "cell_type": "markdown",
      "source": [
        "For this tutorial, we are downloading just 1 of 106 samples available from this paper:"
      ],
      "metadata": {
        "id": "-1-V1JPZVrEt"
      }
    },
    {
      "cell_type": "code",
      "source": [
        "# Get download links for scRNAseq data using ffq\n",
        "!ffq --ftp SRR12698503"
      ],
      "metadata": {
        "colab": {
          "base_uri": "https://localhost:8080/"
        },
        "id": "_gx8VcSrUH_N",
        "outputId": "61350ebd-b925-4061-86a0-ec4111c10025"
      },
      "execution_count": 4,
      "outputs": [
        {
          "output_type": "stream",
          "name": "stdout",
          "text": [
            "[2023-05-15 18:25:55,064]    INFO Parsing run SRR12698503\n",
            "[2023-05-15 18:26:57,050]   ERROR 500 Server Error: Internal Server Error for url: https://www.ebi.ac.uk/ena/portal/api/filereport?accession=SRR12698503&result=read_run&fields=run_accession,fastq_ftp,fastq_md5,fastq_bytes\n",
            "[2023-05-15 18:26:57,051]   ERROR Provided accession is invalid\n",
            "usage: ffq\n",
            "       [-h]\n",
            "       [-o OUT]\n",
            "       [-l LEVEL]\n",
            "       [--ftp]\n",
            "       [--aws]\n",
            "       [--gcp]\n",
            "       [--ncbi]\n",
            "       [--split]\n",
            "       [--verbose]\n",
            "       [--version]\n",
            "       IDs\n",
            "       [IDs ...]\n",
            "ffq: error: For possible failure modes, please see https://github.com/pachterlab/ffq#failure-modes\n"
          ]
        }
      ]
    },
    {
      "cell_type": "code",
      "source": [
        "# Download scRNAseq data\n",
        "!curl -O ftp://ftp.sra.ebi.ac.uk/vol1/fastq/SRR126/003/SRR12698503/SRR12698503_1.fastq.gz\n",
        "!curl -O ftp://ftp.sra.ebi.ac.uk/vol1/fastq/SRR126/003/SRR12698503/SRR12698503_2.fastq.gz"
      ],
      "metadata": {
        "colab": {
          "base_uri": "https://localhost:8080/"
        },
        "id": "_nOGn8IrAMB8",
        "outputId": "b88e0330-2324-41d8-8862-83d5b6ed9332"
      },
      "execution_count": 5,
      "outputs": [
        {
          "output_type": "stream",
          "name": "stdout",
          "text": [
            "  % Total    % Received % Xferd  Average Speed   Time    Time     Time  Current\n",
            "                                 Dload  Upload   Total   Spent    Left  Speed\n",
            "100 4413M  100 4413M    0     0  29.3M      0  0:02:30  0:02:30 --:--:-- 32.1M\n",
            "  % Total    % Received % Xferd  Average Speed   Time    Time     Time  Current\n",
            "                                 Dload  Upload   Total   Spent    Left  Speed\n",
            "100 12.0G  100 12.0G    0     0  32.0M      0  0:06:24  0:06:24 --:--:-- 31.9M\n"
          ]
        }
      ]
    },
    {
      "cell_type": "code",
      "source": [
        "# Download fasta (and annotations) containing PalmDB amino acid reference sequences\n",
        "!curl -O https://raw.githubusercontent.com/lauraluebbert/kallistoXpalmdb/main/palmdb_clustered.fasta\n",
        "!curl -O https://raw.githubusercontent.com/lauraluebbert/kallistoXpalmdb/main/palmdb_clustered.gtf\n",
        "\n",
        "# Download virus ID to taxonomy mapping\n",
        "!curl -O https://raw.githubusercontent.com/lauraluebbert/kallistoXpalmdb/main/palmID_to_taxonomy_mapping.tsv"
      ],
      "metadata": {
        "id": "5iLX5dsw4-TU",
        "outputId": "ffbf5e6f-f0eb-46ea-d86b-6b8d8f61160a",
        "colab": {
          "base_uri": "https://localhost:8080/"
        }
      },
      "execution_count": 6,
      "outputs": [
        {
          "output_type": "stream",
          "name": "stdout",
          "text": [
            "  % Total    % Received % Xferd  Average Speed   Time    Time     Time  Current\n",
            "                                 Dload  Upload   Total   Spent    Left  Speed\n",
            "100  819k  100  819k    0     0  2551k      0 --:--:-- --:--:-- --:--:-- 2551k\n",
            "  % Total    % Received % Xferd  Average Speed   Time    Time     Time  Current\n",
            "                                 Dload  Upload   Total   Spent    Left  Speed\n",
            "100 8051k  100 8051k    0     0  21.7M      0 --:--:-- --:--:-- --:--:-- 21.7M\n",
            "  % Total    % Received % Xferd  Average Speed   Time    Time     Time  Current\n",
            "                                 Dload  Upload   Total   Spent    Left  Speed\n",
            "100  321k  100  321k    0     0  1197k      0 --:--:-- --:--:-- --:--:-- 1197k\n"
          ]
        }
      ]
    },
    {
      "cell_type": "markdown",
      "source": [
        "# Build virus reference index from PalmDB amino acid sequences\n",
        "You can find the kallisto bustools manual and tutorials [here](https://www.kallistobus.tools/).\n",
        "\n",
        "The `--aa` argument tells kb that this is an amino acid reference.  \n",
        "\n",
        "The `--d-list` argument is the path to the **host** transcriptome. These sequences will be masked in the index.\n",
        "\n",
        "Since we installed kallisto from source, we have to tell kb where to find the kallisto binary using the `--kallisto` argument. This will not be neccesary anymore after the official release.\n",
        "\n",
        "(Note: The `--d-list` and `--aa` arguments currently significantly slow down both the `kb ref` and the `kb count` commands. However, we already have some ideas to speed things up before the official release.)"
      ],
      "metadata": {
        "id": "gc_Cfc4r33EG"
      }
    },
    {
      "cell_type": "code",
      "source": [
        "%%time\n",
        "!kb ref \\\n",
        "  --aa \\\n",
        "  --d-list Macaca_mulatta.Mmul_10.dna.toplevel.fa.gz \\\n",
        "  -t 2 \\\n",
        "  -i index.idx \\\n",
        "  -g t2g.txt \\\n",
        "  -f1 transcriptome.fa \\\n",
        "  --kallisto /usr/local/bin/kallisto \\\n",
        "  palmdb_clustered.fasta \\\n",
        "  palmdb_clustered.gtf"
      ],
      "metadata": {
        "colab": {
          "base_uri": "https://localhost:8080/"
        },
        "id": "WzvFDiRX-NE6",
        "outputId": "0cf69d9a-67ab-4a37-bbe2-bb7de3ed3b2a"
      },
      "execution_count": 7,
      "outputs": [
        {
          "output_type": "stream",
          "name": "stdout",
          "text": [
            "[2023-05-15 18:36:01,724]    INFO [ref] Preparing palmdb_clustered.fasta, palmdb_clustered.gtf\n",
            "[2023-05-15 18:36:02,397]    INFO [ref] Splitting genome palmdb_clustered.fasta into cDNA at /content/tmp/tmp0cqctg3e\n",
            "[2023-05-15 18:36:25,804]    INFO [ref] Concatenating 1 cDNAs to transcriptome.fa\n",
            "[2023-05-15 18:36:25,811]    INFO [ref] Creating transcript-to-gene mapping at t2g.txt\n",
            "[2023-05-15 18:36:25,819]    INFO [ref] Indexing transcriptome.fa to index.idx\n",
            "CPU times: user 15.7 s, sys: 1.94 s, total: 17.6 s\n",
            "Wall time: 29min 30s\n"
          ]
        }
      ]
    },
    {
      "cell_type": "markdown",
      "source": [
        "# Align sequencing data and generate virus count matrix\n",
        "The `-x` techology tells kb where to find the barcode and UMI. Here, I added the x string for Seqwell. To view named technologies for `-x`, run `!kb --list`."
      ],
      "metadata": {
        "id": "XhaG2fdy35Jh"
      }
    },
    {
      "cell_type": "code",
      "source": [
        "!kb --list"
      ],
      "metadata": {
        "colab": {
          "base_uri": "https://localhost:8080/"
        },
        "id": "nM_4_4e5U3li",
        "outputId": "18b4ca9b-c321-487b-88f5-0d20d253b394"
      },
      "execution_count": 8,
      "outputs": [
        {
          "output_type": "stream",
          "name": "stdout",
          "text": [
            "List of supported single-cell technologies\n",
            "\n",
            "Positions syntax: `input file index, start position, end position`\n",
            "When start & end positions are None, refers to the entire file\n",
            "Custom technologies may be defined by providing a kallisto-supported technology string\n",
            "(see https://pachterlab.github.io/kallisto/manual)\n",
            "\n",
            "name            description                            whitelist    barcode                    umi        cDNA                       \n",
            "------------    -----------------------------------    ---------    -----------------------    -------    -----------------------    \n",
            "10XV1           10x version 1                          yes          0,0,14                     1,0,10     2,None,None                \n",
            "10XV2           10x version 2                          yes          0,0,16                     0,16,26    1,None,None                \n",
            "10XV3           10x version 3                          yes          0,0,16                     0,16,28    1,None,None                \n",
            "10XV3_ULTIMA    10x version 3 sequenced with Ultima    yes          0,22,38                    0,38,50    0,62,None                  \n",
            "BDWTA           BD Rhapsody                            yes          0,0,9 0,21,30 0,43,52      0,52,60    1,None,None                \n",
            "BULK            Bulk (single or paired)                                                                   0,None,None 1,None,None    \n",
            "CELSEQ          CEL-Seq                                             0,0,8                      0,8,12     1,None,None                \n",
            "CELSEQ2         CEL-SEQ version 2                                   0,6,12                     0,0,6      1,None,None                \n",
            "DROPSEQ         DropSeq                                             0,0,12                     0,12,20    1,None,None                \n",
            "INDROPSV1       inDrops version 1                                   0,0,11 0,30,38             0,42,48    1,None,None                \n",
            "INDROPSV2       inDrops version 2                                   1,0,11 1,30,38             1,42,48    0,None,None                \n",
            "INDROPSV3       inDrops version 3                      yes          0,0,8 1,0,8                1,8,14     2,None,None                \n",
            "SCRUBSEQ        SCRB-Seq                                            0,0,6                      0,6,16     1,None,None                \n",
            "SMARTSEQ2       Smart-seq2  (single or paired)                                                            0,None,None 1,None,None    \n",
            "SMARTSEQ3       Smart-seq3                                                                     0,11,19    0,11,None 1,None,None      \n",
            "SPLIT-SEQ       SPLiT-seq                                           1,10,18 1,48,56 1,78,86    1,0,10     0,None,None                \n",
            "SURECELL        SureCell for ddSEQ                                  0,0,6 0,21,27 0,42,48      0,51,59    1,None,None                \n",
            "Visium          10x Visium                             yes          0,0,16                     0,16,28    1,None,None                \n"
          ]
        }
      ]
    },
    {
      "cell_type": "code",
      "source": [
        "# We will only use the first 200,000,000 reads for this demo\n",
        "!zcat SRR12698503_1.fastq.gz | head -800000000 > SRR12698503_1_short.fastq\n",
        "!zcat SRR12698503_2.fastq.gz | head -800000000 > SRR12698503_2_short.fastq"
      ],
      "metadata": {
        "id": "kWlJCCCCigJO"
      },
      "execution_count": 9,
      "outputs": []
    },
    {
      "cell_type": "code",
      "source": [
        "%%time\n",
        "!kb count \\\n",
        "  --verbose \\\n",
        "  --aa \\\n",
        "  --h5ad \\\n",
        "  -t 2 \\\n",
        "  -i index.idx \\\n",
        "  -g t2g.txt \\\n",
        "  -x 0,0,12:0,12,20:1,0,0 \\\n",
        "  -o kb_results \\\n",
        "  --kallisto /usr/local/bin/kallisto \\\n",
        "  SRR12698503_1_short.fastq \\\n",
        "  SRR12698503_2_short.fastq"
      ],
      "metadata": {
        "colab": {
          "base_uri": "https://localhost:8080/"
        },
        "id": "fYgxpSf2Rc0-",
        "outputId": "8038d531-a8da-43df-ba07-76c3680c8cc6"
      },
      "execution_count": null,
      "outputs": [
        {
          "output_type": "stream",
          "name": "stdout",
          "text": [
            "[2023-05-15 19:17:00,292]   DEBUG [main] Printing verbose output\n",
            "[2023-05-15 19:17:02,497]   DEBUG [main] kallisto binary located at /usr/local/bin/kallisto\n",
            "[2023-05-15 19:17:02,498]   DEBUG [main] bustools binary located at /usr/local/lib/python3.10/dist-packages/kb_python/bins/linux/bustools/bustools\n",
            "[2023-05-15 19:17:02,498]   DEBUG [main] Creating `kb_results/tmp` directory\n",
            "[2023-05-15 19:17:02,501]   DEBUG [main] Namespace(list=False, command='count', tmp=None, keep_tmp=False, verbose=True, i='index.idx', g='t2g.txt', x='0,0,12:0,12,20:1,0,0', o='kb_results', w=None, r=None, t=2, m='2G', strand=None, inleaved=False, genomebam=False, aa=True, gtf=None, chromosomes=None, workflow='standard', em=False, mm=False, tcc=False, filter=None, filter_threshold=None, c1=None, c2=None, overwrite=False, dry_run=False, batch_barcodes=False, loom=False, h5ad=True, loom_names='barcode,target_name', sum='none', cellranger=False, gene_names=False, report=False, no_inspect=False, kallisto='/usr/local/bin/kallisto', bustools='/usr/local/lib/python3.10/dist-packages/kb_python/bins/linux/bustools/bustools', no_validate=False, parity=None, fragment_l=None, fragment_s=None, fastqs=['SRR12698503_1_short.fastq', 'SRR12698503_2_short.fastq'])\n",
            "[2023-05-15 19:17:05,313]    INFO [count] Using index index.idx to generate BUS file to kb_results from\n",
            "[2023-05-15 19:17:05,313]    INFO [count]         SRR12698503_1_short.fastq\n",
            "[2023-05-15 19:17:05,313]    INFO [count]         SRR12698503_2_short.fastq\n",
            "[2023-05-15 19:17:05,313]   DEBUG [count] kallisto bus -i index.idx -o kb_results -x 0,0,12:0,12,20:1,0,0 -t 2 --aa SRR12698503_1_short.fastq SRR12698503_2_short.fastq\n",
            "[2023-05-15 19:17:05,418]   DEBUG [count] \n",
            "[2023-05-15 19:17:05,418]   DEBUG [count] [bus] Note: Strand option was not specified; setting it to --unstranded for specified technology\n",
            "[2023-05-15 19:17:05,729]   DEBUG [count] [index] k-mer length: 31\n",
            "[2023-05-15 19:17:05,829]   DEBUG [count] [index] number of targets: 6,518\n",
            "[2023-05-15 19:17:05,830]   DEBUG [count] [index] number of k-mers: 2,075,208\n",
            "[2023-05-15 19:17:05,830]   DEBUG [count] [index] number of distinguishing flanking k-mers: 138\n",
            "[2023-05-15 19:17:05,830]   DEBUG [count] [quant] will process sample 1: SRR12698503_1_short.fastq\n",
            "[2023-05-15 19:17:05,830]   DEBUG [count] SRR12698503_2_short.fastq\n",
            "[2023-05-15 19:19:13,329]   DEBUG [count] [quant] finding pseudoalignments for the reads ...\n",
            "[2023-05-15 19:21:21,947]   DEBUG [count] [progress] 1M reads processed (0.4% mapped)\n",
            "[2023-05-15 19:23:37,777]   DEBUG [count] [progress] 2M reads processed (0.4% mapped)\n",
            "[2023-05-15 19:25:45,626]   DEBUG [count] [progress] 3M reads processed (0.4% mapped)\n",
            "[2023-05-15 19:27:55,034]   DEBUG [count] [progress] 4M reads processed (0.4% mapped)\n",
            "[2023-05-15 19:30:05,839]   DEBUG [count] [progress] 5M reads processed (0.4% mapped)\n",
            "[2023-05-15 19:32:17,069]   DEBUG [count] [progress] 6M reads processed (0.4% mapped)\n",
            "[2023-05-15 19:34:33,528]   DEBUG [count] [progress] 7M reads processed (0.4% mapped)\n",
            "[2023-05-15 19:36:43,142]   DEBUG [count] [progress] 8M reads processed (0.4% mapped)\n",
            "[2023-05-15 19:38:52,423]   DEBUG [count] [progress] 9M reads processed (0.4% mapped)\n",
            "[2023-05-15 19:41:03,042]   DEBUG [count] [progress] 10M reads processed (0.4% mapped)\n",
            "[2023-05-15 19:43:12,197]   DEBUG [count] [progress] 11M reads processed (0.4% mapped)\n",
            "[2023-05-15 19:45:29,007]   DEBUG [count] [progress] 12M reads processed (0.4% mapped)\n"
          ]
        }
      ]
    },
    {
      "cell_type": "markdown",
      "source": [
        "Add sample metadata:"
      ],
      "metadata": {
        "id": "NzLKmEhVVzLh"
      }
    },
    {
      "cell_type": "code",
      "source": [
        "!curl -O https://raw.githubusercontent.com/lauraluebbert/kallistoXpalmdb/main/example_metadata.txt\n",
        "metadata = pd.read_csv(\"example_metadata.txt\", sep=\",\")\n",
        "\n",
        "# Only keep relevent data\n",
        "metadata[\"mdck_spike_in\"] = metadata[\"mdck_spike_in\"].fillna(False).values\n",
        "metadata = metadata[[\"Run\", \"donor_animal\", \"Experiment\", \"mdck_spike_in\", \"hours_post_innoculation\", \"day_post_infection\"]]\n",
        "metadata.head()"
      ],
      "metadata": {
        "id": "rPZAK0yIVviQ"
      },
      "execution_count": null,
      "outputs": []
    },
    {
      "cell_type": "code",
      "source": [
        "adata.obs['barcode'] = adata.obs.index\n",
        "\n",
        "adata.obs = (\n",
        "        adata\n",
        "        .obs.merge(metadata, left_on=\"sample\", right_on=\"Run\", how=\"left\")\n",
        "        .set_index(\"barcode\")\n",
        "    )\n",
        "\n",
        "adata.obs"
      ],
      "metadata": {
        "id": "Y00adpCbWZkR"
      },
      "execution_count": null,
      "outputs": []
    },
    {
      "cell_type": "code",
      "source": [
        "# Create clean timepoint column\n",
        "# Join day_post_infection and hours_post_innoculation columns\n",
        "adata.obs[\"dpi\"] = adata.obs[\"day_post_infection\"].fillna(adata.obs[\"hours_post_innoculation\"]).astype(int)\n",
        "\n",
        "# Add h/d accession to denote hours/days \n",
        "adata.obs[\"dpi_accessions\"] = np.where(adata.obs[\"hours_post_innoculation\"].isna(), \"d\", \"h\")\n",
        "adata.obs[\"dpi_clean\"] = adata.obs[\"dpi\"].astype(str) + adata.obs[\"dpi_accessions\"].astype(str)"
      ],
      "metadata": {
        "id": "pDY_-j0PXLKp"
      },
      "execution_count": null,
      "outputs": []
    },
    {
      "cell_type": "markdown",
      "source": [
        "# Visualize virus counts "
      ],
      "metadata": {
        "id": "2GYJbkkV9piY"
      }
    },
    {
      "cell_type": "code",
      "source": [
        "# Load virus ID to taxonomy mapping\n",
        "tax_df = pd.read_csv(\"palmID_to_taxonomy_mapping.tsv\", sep='\\t')\n",
        "tax_df.head()"
      ],
      "metadata": {
        "id": "KNKKUyVv9y0m"
      },
      "execution_count": null,
      "outputs": []
    },
    {
      "cell_type": "code",
      "source": [
        "# Show Coronavirus species\n",
        "tax_df[tax_df[\"species\"].str.contains(\"Ebolavirus\")]"
      ],
      "metadata": {
        "id": "zk4piHyOIC2F"
      },
      "execution_count": null,
      "outputs": []
    },
    {
      "cell_type": "code",
      "source": [
        "# Print total target virus counts across all samples\n",
        "target_ids = phylogeny_data[phylogeny_data[\"species\"].str.contains(\"Ebolavirus\")][\"Label\"].values\n",
        "for id_ in target_ids:\n",
        "    counts = adata.X[:, adata.var.index == id_].sum()\n",
        "    if counts > 0:\n",
        "        print(id_, \": \", counts)"
      ],
      "metadata": {
        "id": "cOVUb4MURGhv"
      },
      "execution_count": null,
      "outputs": []
    },
    {
      "cell_type": "code",
      "source": [
        "# Load AnnData object retured by kb-python containing virus counts\n",
        "adata = anndata.read(\"kb_results/counts_unfiltered/adata.h5ad\")\n",
        "adata"
      ],
      "metadata": {
        "id": "zwkc6msURPT8"
      },
      "execution_count": null,
      "outputs": []
    },
    {
      "cell_type": "code",
      "source": [
        "fig, ax = plt.subplots(figsize=(10, 5))\n",
        "fontsize = 14\n",
        "\n",
        "samples = adata.obs[\"dpi_clean\"]\n",
        "labels = samples\n",
        "virus_id = \"u55137\"\n",
        "\n",
        "cellnum = []\n",
        "counts = []\n",
        "for sample in samples:\n",
        "    count = adata.X[adata.obs[\"dpi_clean\"] == sample, adata.var.index == virus_id].sum()\n",
        "    counts.append(count)\n",
        "    if count > 0:\n",
        "        cellnum.append(len(nd(adata.X[adata.obs[\"dpi_clean\"] == sample, adata.var.index == virus_id])))\n",
        "    else:\n",
        "        cellnum.append(0)\n",
        "\n",
        "fontsize = 14\n",
        "width = 0.4\n",
        "x = np.arange(len(labels))\n",
        "\n",
        "ax.bar(x-width/2, counts, width=width, label=f\"UMI counts\", color=\"#d42526\", edgecolor=\"black\")\n",
        "ax.bar(x+width/2, cellnum, width=width, label=f\"EBOV+ cells\", color=\"#d42526\", alpha=0.5, edgecolor=\"black\")\n",
        "\n",
        "ax.set_yscale(\"log\")\n",
        "ax.set_ylabel(\"Total count\", fontsize=fontsize)\n",
        "ax.set_xlabel(\"Timepoint\", fontsize=fontsize)\n",
        "ax.legend(loc=\"upper left\", fontsize=fontsize)\n",
        "\n",
        "ax.set_xticks(x, samples, rotation=0, ha=\"center\")\n",
        "\n",
        "ax.tick_params(axis=\"both\", labelsize=fontsize)\n",
        "ax.set_title(f\"Zaire Ebolavirus ({virus_id}) RdRP RNA molecule and cell counts\", fontsize=fontsize+2)\n",
        "\n",
        "ax.grid(True, which=\"both\", color=\"lightgray\")\n",
        "ax.set_axisbelow(True)\n",
        "\n",
        "fig.show()"
      ],
      "metadata": {
        "id": "W8HiPFQFdDfs"
      },
      "execution_count": null,
      "outputs": []
    },
    {
      "cell_type": "markdown",
      "source": [
        "Define virus filtering thresholds for bar and Krona plots:"
      ],
      "metadata": {
        "id": "KK45n2eKRqU8"
      }
    },
    {
      "cell_type": "code",
      "source": [
        "# Minimum count of virus in at least one cell\n",
        "count_threshold = 2\n",
        "# Minimum number of cells the virus was seen in\n",
        "num_cells_threshold = 100"
      ],
      "metadata": {
        "id": "LK7Ny_V0PfYz"
      },
      "execution_count": null,
      "outputs": []
    },
    {
      "cell_type": "code",
      "source": [
        "samples = []\n",
        "\n",
        "# Get counts for each virus per sample\n",
        "vir_fractions_df = pd.DataFrame()\n",
        "\n",
        "for idx, virus_id in enumerate(adata.var.index):\n",
        "    if adata.X[:, adata.var.index == virus_id].max() >= count_threshold and len(nd(adata.X[:, adata.var.index == virus_id].todense())) >= num_cells_threshold:\n",
        "        virus_counts = []\n",
        "        \n",
        "        for timepoint in timepoints:\n",
        "            for animal_id in adata.obs[adata.obs[\"dpi_clean\"] == timepoint][\"donor_animal\"].unique():\n",
        "                virus_counts.append(adata.X[(adata.obs[\"donor_animal\"] == animal_id) & (adata.obs[\"dpi_clean\"] == timepoint), adata.var.index == virus_id].sum())\n",
        "                \n",
        "                if idx == 0:\n",
        "                    samples.append(timepoint + \"_\" + animal_id)\n",
        "\n",
        "        utax_label = \"_\".join(phylogeny_data[phylogeny_data[\"Label\"] == virus_id].values[0]).replace(\"_.\", \"\")\n",
        "        vir_fractions_df[utax_label] = virus_counts\n",
        "\n",
        "vir_fractions_df[\"sample\"] = samples\n",
        "\n",
        "# De-fragment dataframe\n",
        "vir_fractions_df = vir_fractions_df.copy()\n",
        "\n",
        "# Set sample as index\n",
        "vir_fractions_df = vir_fractions_df.set_index(\"sample\")\n",
        "\n",
        "# Get total virus reads per sample\n",
        "vir_fractions_df[\"sample_total\"] = vir_fractions_df.sum(axis = 1)\n",
        "\n",
        "# Get fractions for each virus\n",
        "for virus in vir_fractions_df.columns[:-1]:\n",
        "    vir_fractions_df[f\"{virus}_fraction\"] = vir_fractions_df[virus] / vir_fractions_df[\"sample_total\"]\n",
        "    \n",
        "# De-fragment dataframe\n",
        "vir_fractions_df = vir_fractions_df.copy()\n",
        "\n",
        "# Sort by maximum value accross all samples\n",
        "vir_fractions_df = vir_fractions_df[vir_fractions_df.max().sort_values(ascending=False).index]\n",
        "\n",
        "vir_fractions_df.head()"
      ],
      "metadata": {
        "id": "c7M7ZUHdO5j8"
      },
      "execution_count": null,
      "outputs": []
    },
    {
      "cell_type": "code",
      "source": [
        "fig, ax = plt.subplots(figsize=(20, 10))\n",
        "fontsize = 14\n",
        "width = 0.75\n",
        "\n",
        "samples = vir_fractions_df.index.values\n",
        "x = np.arange(len(samples))\n",
        "bottom = np.zeros(len(samples))\n",
        "\n",
        "NUM_COLORS = 20\n",
        "color_idx = 0\n",
        "second_hatch_round = False\n",
        "third_hatch_round = False\n",
        "forth_hatch_round = False\n",
        "hatch=\"\"\n",
        "mpl.rcParams['hatch.linewidth'] = 0.5\n",
        "legend_counter = 0\n",
        "\n",
        "for virus_column in vir_fractions_df.columns:\n",
        "    if \"_fraction\" in virus_column:\n",
        "        label_temp = virus_column.split(\"_fraction\")[0]\n",
        "        # Split long labels after n characters\n",
        "        n = 79\n",
        "        label = (\"\\n\".join(label_temp[i:i+n] for i in range(0, len(label_temp), n))) if len(label_temp) > n else label_temp\n",
        "\n",
        "        # Only show labels for first n viruses (else legend will be too long / break plot)\n",
        "        if legend_counter <= 47:\n",
        "            ax.barh(x, vir_fractions_df[virus_column].values, width, label=label, left=bottom, color=plt.cm.tab20(color_idx), hatch=hatch)\n",
        "            legend_counter += 1\n",
        "        else:\n",
        "            ax.barh(x, vir_fractions_df[virus_column].values, width, left=bottom, color=plt.cm.tab20(color_idx), hatch=hatch)\n",
        "        \n",
        "        bottom += vir_fractions_df[virus_column].values\n",
        "\n",
        "        # Change hatch every 20 viruses\n",
        "        if color_idx == NUM_COLORS-1 and not second_hatch_round and not third_hatch_round and not forth_hatch_round:\n",
        "            hatch = \"/\"\n",
        "            second_hatch_round = True\n",
        "            color_idx = 0\n",
        "            continue\n",
        "        elif color_idx == NUM_COLORS-1 and second_hatch_round:\n",
        "            hatch = \"\\\\\"\n",
        "            color_idx = 0\n",
        "            second_hatch_round = False\n",
        "            third_hatch_round = True\n",
        "            continue\n",
        "        elif color_idx == NUM_COLORS-1 and third_hatch_round:\n",
        "            hatch = \"o\"\n",
        "            color_idx = 0\n",
        "            third_hatch_round = False\n",
        "            forth_hatch_round = True\n",
        "            continue\n",
        "        elif color_idx == NUM_COLORS-1 and forth_hatch_round:\n",
        "            hatch = \"+\"\n",
        "            color_idx = 0\n",
        "            continue\n",
        "        else:\n",
        "            color_idx += 1\n",
        "\n",
        "# Add number of total virus counts to plot and generate xtick labels\n",
        "ax.set_xlim(0, 1.08)\n",
        "sample_type_label = []\n",
        "x_height  = 1.005\n",
        "for i, sample in enumerate(samples):\n",
        "    total_count = \"{:,}\".format(vir_fractions_df[vir_fractions_df.index == sample][\"sample_total\"].values[0].astype(int))  \n",
        "    ax.annotate(total_count, (x_height, i), fontsize=fontsize-1, ha=\"left\", va=\"center\")\n",
        "    \n",
        "    sample_type_label.append(sample)\n",
        "\n",
        "# ax.set_yscale(\"log\")\n",
        "ax.set_xlabel(\"Fraction of total virus reads\", fontsize=fontsize)\n",
        "ax.set_ylabel(\"Animal\", fontsize=fontsize)\n",
        "\n",
        "# leg = ax.legend(fontsize=fontsize, loc='center left', bbox_to_anchor=(1, 0.5))\n",
        "leg = ax.legend(fontsize=fontsize-3, loc='upper center', bbox_to_anchor=(0.5, -0.05), ncol=7)\n",
        "for i, leg_txt in enumerate(leg.get_texts()):\n",
        "    leg_txt.set_color(\"white\")\n",
        "leg.get_frame().set_alpha(0.2)\n",
        "\n",
        "ax.set_yticks(x, sample_type_label, rotation=0, ha=\"right\")\n",
        "        \n",
        "ax.tick_params(axis=\"both\", labelsize=fontsize)\n",
        "ax.set_title(f\"Fraction of reads per virus species\", fontsize=fontsize+2)\n",
        "    \n",
        "ax.margins(y=0.01) \n",
        "\n",
        "fig.show()"
      ],
      "metadata": {
        "id": "eogXoitaPNVI"
      },
      "execution_count": null,
      "outputs": []
    },
    {
      "cell_type": "markdown",
      "source": [
        "# Create [Krona](https://github.com/marbl/Krona/wiki) plot \n",
        "This plot will be saved as html and can be opened in a browser."
      ],
      "metadata": {
        "id": "gQyDHROJPVxS"
      }
    },
    {
      "cell_type": "code",
      "source": [
        "# Install Krona from source\n",
        "!git clone https://github.com/marbl/Krona.git && cd Krona && ./install.pl"
      ],
      "metadata": {
        "id": "_RoF_yapQUWu"
      },
      "execution_count": null,
      "outputs": []
    },
    {
      "cell_type": "code",
      "source": [
        "master = pd.DataFrame()\n",
        "for idx, timepoint in enumerate(adata.obs[\"dpi_clean\"].unique()):\n",
        "    for animal_id in adata.obs[adata.obs[\"dpi_clean\"] == timepoint][\"donor_animal\"].unique():\n",
        "        adata_temp = adata[(adata.obs[\"dpi_clean\"] == timepoint) & (adata.obs[\"donor_animal\"] == animal_id), :]\n",
        "\n",
        "        # Add total number of counts (across all cells) for each virus ID to phylogeny data temp\n",
        "        virus_ids = adata_temp.var.index.values\n",
        "        total_counts = nd(adata_temp.X.sum(axis=0))\n",
        "        total_count_dict = {virus_ids[i]: total_counts[i] for i in range(len(virus_ids))}\n",
        "\n",
        "        phylogeny_data_temp = phylogeny_data.copy()\n",
        "        phylogeny_data_temp['total_count'] = phylogeny_data_temp['Label'].map(total_count_dict)\n",
        "\n",
        "        # Remove all viruses that were only detected in less than num_cells_threshold cells\n",
        "        phylogeny_data_temp = phylogeny_data_temp[phylogeny_data_temp[\"total_count\"] >= num_cells_threshold]\n",
        "\n",
        "        # Remove non-relevent columns and change order of columns  \n",
        "        phylogeny_data_temp = phylogeny_data_temp[[\"total_count\", \"phylum\", \"class\", \"order\", \"family\", \"genus\", \"species\", \"Label\"]]\n",
        "\n",
        "        # Replace dots with NaN\n",
        "        phylogeny_data_temp = phylogeny_data_temp.replace(\".\", np.nan)\n",
        "\n",
        "        # Add column with timepoint\n",
        "        phylogeny_data_temp[\"timepoint\"] = timepoint\n",
        "\n",
        "        # Add column with animal id\n",
        "        phylogeny_data_temp[\"animal_id\"] = animal_id\n",
        "\n",
        "        # Append to master dataframe\n",
        "        if idx == 0:\n",
        "            master = phylogeny_data_temp.copy()\n",
        "        else:\n",
        "            master = master.append(phylogeny_data_temp)\n",
        "\n",
        "# Save counts + taxnomomies data to txt file\n",
        "master.to_csv(f'krona.txt', sep ='\\t', header=None, index=False)\n",
        "\n",
        "# Generate Krona plot\n",
        "krona_out = \"figures/krona.html\"\n",
        "!$ktImportText krona.txt -o $krona_out -n \"Viral RNAs\""
      ],
      "metadata": {
        "id": "cNfWG2_yPTkO"
      },
      "execution_count": null,
      "outputs": []
    }
  ]
}