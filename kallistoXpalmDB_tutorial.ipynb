{
  "nbformat": 4,
  "nbformat_minor": 0,
  "metadata": {
    "colab": {
      "provenance": [],
      "gpuType": "T4",
      "authorship_tag": "ABX9TyMUlAOJckX3kEcd8KedYrsU",
      "include_colab_link": true
    },
    "kernelspec": {
      "name": "python3",
      "display_name": "Python 3"
    },
    "language_info": {
      "name": "python"
    },
    "gpuClass": "standard"
  },
  "cells": [
    {
      "cell_type": "markdown",
      "metadata": {
        "id": "view-in-github",
        "colab_type": "text"
      },
      "source": [
        "<a href=\"https://colab.research.google.com/github/lauraluebbert/kallistoXpalmdb/blob/main/kallistoXpalmDB_tutorial.ipynb\" target=\"_parent\"><img src=\"https://colab.research.google.com/assets/colab-badge.svg\" alt=\"Open In Colab\"/></a>"
      ]
    },
    {
      "cell_type": "markdown",
      "source": [
        "# kallisto X PalmDB tutorial\n",
        "\n",
        "This is a simple pre-release tutorial introducig the new `--aa` option of [kallisto](https://www.nature.com/articles/s41587-021-00870-2) to generate count matrices from scRNAseq data using an amino acid referece. Here, we will use this option in combination with the [PalmDB database](https://www.nature.com/articles/s41586-021-04332-2) to find viral sequences in [lung samles from APOE knock-in mice with or without COVID-19](https://www.nature.com/articles/s41586-022-05344-2)."
      ],
      "metadata": {
        "id": "zKAMqEdz4R3n"
      }
    },
    {
      "cell_type": "markdown",
      "source": [
        "# Install software"
      ],
      "metadata": {
        "id": "5ddSnwmkAw6k"
      }
    },
    {
      "cell_type": "code",
      "execution_count": 1,
      "metadata": {
        "colab": {
          "base_uri": "https://localhost:8080/"
        },
        "id": "86UhjtGrT3xl",
        "outputId": "e935588c-86cd-48eb-defe-4ce0c82bf6a0"
      },
      "outputs": [
        {
          "output_type": "stream",
          "name": "stdout",
          "text": [
            "\u001b[2K     \u001b[90m━━━━━━━━━━━━━━━━━━━━━━━━━━━━━━━━━━━━━━━━\u001b[0m \u001b[32m2.2/2.2 MB\u001b[0m \u001b[31m22.7 MB/s\u001b[0m eta \u001b[36m0:00:00\u001b[0m\n",
            "\u001b[2K     \u001b[90m━━━━━━━━━━━━━━━━━━━━━━━━━━━━━━━━━━━━━━━━\u001b[0m \u001b[32m25.2/25.2 MB\u001b[0m \u001b[31m36.6 MB/s\u001b[0m eta \u001b[36m0:00:00\u001b[0m\n",
            "\u001b[2K     \u001b[90m━━━━━━━━━━━━━━━━━━━━━━━━━━━━━━━━━━━━━━━━\u001b[0m \u001b[32m71.9/71.9 kB\u001b[0m \u001b[31m2.8 MB/s\u001b[0m eta \u001b[36m0:00:00\u001b[0m\n",
            "\u001b[2K     \u001b[90m━━━━━━━━━━━━━━━━━━━━━━━━━━━━━━━━━━━━━━━━\u001b[0m \u001b[32m11.2/11.2 MB\u001b[0m \u001b[31m45.2 MB/s\u001b[0m eta \u001b[36m0:00:00\u001b[0m\n",
            "\u001b[2K     \u001b[90m━━━━━━━━━━━━━━━━━━━━━━━━━━━━━━━━━━━━━━━\u001b[0m \u001b[32m103.0/103.0 kB\u001b[0m \u001b[31m7.4 MB/s\u001b[0m eta \u001b[36m0:00:00\u001b[0m\n",
            "\u001b[2K     \u001b[90m━━━━━━━━━━━━━━━━━━━━━━━━━━━━━━━━━━━━━━━━\u001b[0m \u001b[32m20.7/20.7 MB\u001b[0m \u001b[31m14.6 MB/s\u001b[0m eta \u001b[36m0:00:00\u001b[0m\n",
            "\u001b[2K     \u001b[90m━━━━━━━━━━━━━━━━━━━━━━━━━━━━━━━━━━━━━━━━\u001b[0m \u001b[32m2.0/2.0 MB\u001b[0m \u001b[31m21.5 MB/s\u001b[0m eta \u001b[36m0:00:00\u001b[0m\n",
            "\u001b[2K     \u001b[90m━━━━━━━━━━━━━━━━━━━━━━━━━━━━━━━━━━━━━━━━\u001b[0m \u001b[32m1.6/1.6 MB\u001b[0m \u001b[31m43.6 MB/s\u001b[0m eta \u001b[36m0:00:00\u001b[0m\n",
            "\u001b[2K     \u001b[90m━━━━━━━━━━━━━━━━━━━━━━━━━━━━━━━━━━━━━━━━\u001b[0m \u001b[32m1.0/1.0 MB\u001b[0m \u001b[31m16.4 MB/s\u001b[0m eta \u001b[36m0:00:00\u001b[0m\n",
            "\u001b[2K     \u001b[90m━━━━━━━━━━━━━━━━━━━━━━━━━━━━━━━━━━━━━━━\u001b[0m \u001b[32m114.5/114.5 kB\u001b[0m \u001b[31m4.3 MB/s\u001b[0m eta \u001b[36m0:00:00\u001b[0m\n",
            "\u001b[2K     \u001b[90m━━━━━━━━━━━━━━━━━━━━━━━━━━━━━━━━━━━━━━\u001b[0m \u001b[32m268.8/268.8 kB\u001b[0m \u001b[31m14.1 MB/s\u001b[0m eta \u001b[36m0:00:00\u001b[0m\n",
            "\u001b[2K     \u001b[90m━━━━━━━━━━━━━━━━━━━━━━━━━━━━━━━━━━━━━━━\u001b[0m \u001b[32m149.6/149.6 kB\u001b[0m \u001b[31m8.9 MB/s\u001b[0m eta \u001b[36m0:00:00\u001b[0m\n",
            "\u001b[2K     \u001b[90m━━━━━━━━━━━━━━━━━━━━━━━━━━━━━━━━━━━━━━━━\u001b[0m \u001b[32m72.7/72.7 kB\u001b[0m \u001b[31m5.0 MB/s\u001b[0m eta \u001b[36m0:00:00\u001b[0m\n",
            "\u001b[2K     \u001b[90m━━━━━━━━━━━━━━━━━━━━━━━━━━━━━━━━━━━━━━━\u001b[0m \u001b[32m160.1/160.1 kB\u001b[0m \u001b[31m6.8 MB/s\u001b[0m eta \u001b[36m0:00:00\u001b[0m\n",
            "\u001b[2K     \u001b[90m━━━━━━━━━━━━━━━━━━━━━━━━━━━━━━━━━━━━━━━━\u001b[0m \u001b[32m10.4/10.4 MB\u001b[0m \u001b[31m34.9 MB/s\u001b[0m eta \u001b[36m0:00:00\u001b[0m\n",
            "\u001b[2K     \u001b[90m━━━━━━━━━━━━━━━━━━━━━━━━━━━━━━━━━━━━━━━━\u001b[0m \u001b[32m88.2/88.2 kB\u001b[0m \u001b[31m5.2 MB/s\u001b[0m eta \u001b[36m0:00:00\u001b[0m\n",
            "\u001b[?25h  Preparing metadata (setup.py) ... \u001b[?25l\u001b[?25hdone\n",
            "  Preparing metadata (setup.py) ... \u001b[?25l\u001b[?25hdone\n",
            "\u001b[2K     \u001b[90m━━━━━━━━━━━━━━━━━━━━━━━━━━━━━━━━━━━━━━━━\u001b[0m \u001b[32m1.1/1.1 MB\u001b[0m \u001b[31m40.5 MB/s\u001b[0m eta \u001b[36m0:00:00\u001b[0m\n",
            "\u001b[?25h  Preparing metadata (setup.py) ... \u001b[?25l\u001b[?25hdone\n",
            "\u001b[2K     \u001b[90m━━━━━━━━━━━━━━━━━━━━━━━━━━━━━━━━━━━━━━━━\u001b[0m \u001b[32m63.5/63.5 kB\u001b[0m \u001b[31m3.0 MB/s\u001b[0m eta \u001b[36m0:00:00\u001b[0m\n",
            "\u001b[?25h  Building wheel for umap-learn (setup.py) ... \u001b[?25l\u001b[?25hdone\n",
            "  Building wheel for session-info (setup.py) ... \u001b[?25l\u001b[?25hdone\n",
            "  Building wheel for pynndescent (setup.py) ... \u001b[?25l\u001b[?25hdone\n"
          ]
        }
      ],
      "source": [
        "# Install ffq (https://github.com/pachterlab/ffq) and gget (https://github.com/pachterlab/gget) for simplified data download\n",
        "!pip install -q gget ffq"
      ]
    },
    {
      "cell_type": "markdown",
      "source": [
        "Next, we will install the kallisto bustools wrapper [`kb-python`](https://github.com/pachterlab/kb_python) and compile kallisto from the development branch (after the official release, this will become just `pip install kb-python`):"
      ],
      "metadata": {
        "id": "Y9uFetKXIzSO"
      }
    },
    {
      "cell_type": "code",
      "source": [
        "# Install kb_python and kallisto from dev branch\n",
        "!pip install -q git+https://github.com/pachterlab/kb_python.git@dlist\n",
        "!git clone https://github.com/pachterlab/kallisto-D.git\n",
        "!mkdir kallisto-D/build && cd kallisto-D/build && cmake .. && make && make install"
      ],
      "metadata": {
        "colab": {
          "base_uri": "https://localhost:8080/"
        },
        "id": "_icuVIGtIMDQ",
        "outputId": "69cc7c52-a264-4d90-bd81-95fa8d4d9bec"
      },
      "execution_count": 2,
      "outputs": [
        {
          "output_type": "stream",
          "name": "stdout",
          "text": [
            "  Preparing metadata (setup.py) ... \u001b[?25l\u001b[?25hdone\n",
            "\u001b[2K     \u001b[90m━━━━━━━━━━━━━━━━━━━━━━━━━━━━━━━━━━━━━━━━\u001b[0m \u001b[32m4.8/4.8 MB\u001b[0m \u001b[31m39.0 MB/s\u001b[0m eta \u001b[36m0:00:00\u001b[0m\n",
            "\u001b[?25h  Preparing metadata (setup.py) ... \u001b[?25l\u001b[?25hdone\n",
            "\u001b[2K     \u001b[90m━━━━━━━━━━━━━━━━━━━━━━━━━━━━━━━━━━━━━━━━\u001b[0m \u001b[32m45.2/45.2 MB\u001b[0m \u001b[31m16.9 MB/s\u001b[0m eta \u001b[36m0:00:00\u001b[0m\n",
            "\u001b[?25h  Preparing metadata (setup.py) ... \u001b[?25l\u001b[?25hdone\n",
            "\u001b[2K     \u001b[90m━━━━━━━━━━━━━━━━━━━━━━━━━━━━━━━━━━━━━━━━\u001b[0m \u001b[32m53.3/53.3 kB\u001b[0m \u001b[31m5.5 MB/s\u001b[0m eta \u001b[36m0:00:00\u001b[0m\n",
            "\u001b[?25h  Preparing metadata (setup.py) ... \u001b[?25l\u001b[?25hdone\n",
            "\u001b[2K     \u001b[90m━━━━━━━━━━━━━━━━━━━━━━━━━━━━━━━━━━━━━━━━\u001b[0m \u001b[32m20.0/20.0 MB\u001b[0m \u001b[31m22.7 MB/s\u001b[0m eta \u001b[36m0:00:00\u001b[0m\n",
            "\u001b[?25h  Building wheel for kb-python (setup.py) ... \u001b[?25l\u001b[?25hdone\n",
            "  Building wheel for loompy (setup.py) ... \u001b[?25l\u001b[?25hdone\n",
            "  Building wheel for ngs-tools (setup.py) ... \u001b[?25l\u001b[?25hdone\n",
            "  Building wheel for numpy-groupies (setup.py) ... \u001b[?25l\u001b[?25hdone\n",
            "Cloning into 'kallisto-D'...\n",
            "remote: Enumerating objects: 7496, done.\u001b[K\n",
            "remote: Counting objects: 100% (297/297), done.\u001b[K\n",
            "remote: Compressing objects: 100% (116/116), done.\u001b[K\n",
            "remote: Total 7496 (delta 206), reused 261 (delta 181), pack-reused 7199\u001b[K\n",
            "Receiving objects: 100% (7496/7496), 8.50 MiB | 15.94 MiB/s, done.\n",
            "Resolving deltas: 100% (4958/4958), done.\n",
            "-- The C compiler identification is GNU 9.4.0\n",
            "-- The CXX compiler identification is GNU 9.4.0\n",
            "-- Detecting C compiler ABI info\n",
            "-- Detecting C compiler ABI info - done\n",
            "-- Check for working C compiler: /usr/bin/cc - skipped\n",
            "-- Detecting C compile features\n",
            "-- Detecting C compile features - done\n",
            "-- Detecting CXX compiler ABI info\n",
            "-- Detecting CXX compiler ABI info - done\n",
            "-- Check for working CXX compiler: /usr/bin/c++ - skipped\n",
            "-- Detecting CXX compile features\n",
            "-- Detecting CXX compile features - done\n",
            "-- Performing Test COMPILER_SUPPORTS_CXX17\n",
            "-- Performing Test COMPILER_SUPPORTS_CXX17 - Success\n",
            "\u001b[0mshared build\u001b[0m\n",
            "-- Performing Test CMAKE_HAVE_LIBC_PTHREAD\n",
            "-- Performing Test CMAKE_HAVE_LIBC_PTHREAD - Failed\n",
            "-- Looking for pthread_create in pthreads\n",
            "-- Looking for pthread_create in pthreads - not found\n",
            "-- Looking for pthread_create in pthread\n",
            "-- Looking for pthread_create in pthread - found\n",
            "-- Found Threads: TRUE  \n",
            "-- Found ZLIB: /usr/lib/x86_64-linux-gnu/libz.so (found version \"1.2.11\") \n",
            "-- Configuring done\n",
            "-- Generating done\n",
            "-- Build files have been written to: /content/kallisto-D/build\n",
            "[  3%] \u001b[34m\u001b[1mCreating directories for 'bifrost'\u001b[0m\n",
            "[  7%] \u001b[34m\u001b[1mNo download step for 'bifrost'\u001b[0m\n",
            "[ 11%] \u001b[34m\u001b[1mNo update step for 'bifrost'\u001b[0m\n",
            "[ 15%] \u001b[34m\u001b[1mNo patch step for 'bifrost'\u001b[0m\n",
            "[ 19%] \u001b[34m\u001b[1mPerforming configure step for 'bifrost'\u001b[0m\n",
            "-- The C compiler identification is GNU 9.4.0\n",
            "-- The CXX compiler identification is GNU 9.4.0\n",
            "-- Detecting C compiler ABI info\n",
            "-- Detecting C compiler ABI info - done\n",
            "-- Check for working C compiler: /usr/bin/cc - skipped\n",
            "-- Detecting C compile features\n",
            "-- Detecting C compile features - done\n",
            "-- Detecting CXX compiler ABI info\n",
            "-- Detecting CXX compiler ABI info - done\n",
            "-- Check for working CXX compiler: /usr/bin/c++ - skipped\n",
            "-- Detecting CXX compile features\n",
            "-- Detecting CXX compile features - done\n",
            "\u001b[0mCompilation architecture: native\u001b[0m\n",
            "\u001b[0mBuild type: Release\u001b[0m\n",
            "\u001b[0mMaximum k-mer size: 31\u001b[0m\n",
            "\u001b[0mMaximum g-mer size: 31\u001b[0m\n",
            "-- Performing Test CMAKE_HAVE_LIBC_PTHREAD\n",
            "-- Performing Test CMAKE_HAVE_LIBC_PTHREAD - Failed\n",
            "-- Looking for pthread_create in pthreads\n",
            "-- Looking for pthread_create in pthreads - not found\n",
            "-- Looking for pthread_create in pthread\n",
            "-- Looking for pthread_create in pthread - found\n",
            "-- Found Threads: TRUE  \n",
            "-- Found ZLIB: /usr/lib/x86_64-linux-gnu/libz.so (found version \"1.2.11\") \n",
            "-- Configuring done\n",
            "-- Generating done\n",
            "-- Build files have been written to: /content/kallisto-D/ext/bifrost/build\n",
            "[ 23%] \u001b[34m\u001b[1mPerforming build step for 'bifrost'\u001b[0m\n",
            "[  3%] \u001b[32mBuilding CXX object src/CMakeFiles/bifrost_static.dir/Bifrost.cpp.o\u001b[0m\n",
            "[  6%] \u001b[32mBuilding CXX object src/CMakeFiles/bifrost_static.dir/BitContainer.cpp.o\u001b[0m\n",
            "[  9%] \u001b[32mBuilding CXX object src/CMakeFiles/bifrost_static.dir/BlockedBloomFilter.cpp.o\u001b[0m\n",
            "[ 12%] \u001b[32mBuilding CXX object src/CMakeFiles/bifrost_static.dir/ColorSet.cpp.o\u001b[0m\n",
            "[ 15%] \u001b[32mBuilding CXX object src/CMakeFiles/bifrost_static.dir/CompressedCoverage.cpp.o\u001b[0m\n",
            "[ 18%] \u001b[32mBuilding CXX object src/CMakeFiles/bifrost_static.dir/CompressedSequence.cpp.o\u001b[0m\n",
            "[ 21%] \u001b[32mBuilding CXX object src/CMakeFiles/bifrost_static.dir/FASTX_Parser.cpp.o\u001b[0m\n",
            "[ 25%] \u001b[32mBuilding CXX object src/CMakeFiles/bifrost_static.dir/GFA_Parser.cpp.o\u001b[0m\n",
            "[ 28%] \u001b[32mBuilding CXX object src/CMakeFiles/bifrost_static.dir/Kmer.cpp.o\u001b[0m\n",
            "[ 31%] \u001b[32mBuilding CXX object src/CMakeFiles/bifrost_static.dir/KmerIterator.cpp.o\u001b[0m\n",
            "[ 34%] \u001b[32mBuilding CXX object src/CMakeFiles/bifrost_static.dir/MinimizerIndex.cpp.o\u001b[0m\n",
            "[ 37%] \u001b[32mBuilding CXX object src/CMakeFiles/bifrost_static.dir/TinyBitmap.cpp.o\u001b[0m\n",
            "[ 40%] \u001b[32mBuilding CXX object src/CMakeFiles/bifrost_static.dir/UnitigMap.cpp.o\u001b[0m\n",
            "[ 43%] \u001b[32mBuilding C object src/CMakeFiles/bifrost_static.dir/roaring.c.o\u001b[0m\n",
            "[ 46%] \u001b[32m\u001b[1mLinking CXX static library libbifrost.a\u001b[0m\n",
            "[ 46%] Built target bifrost_static\n",
            "[ 50%] \u001b[32mBuilding CXX object src/CMakeFiles/bifrost_dynamic.dir/Bifrost.cpp.o\u001b[0m\n",
            "[ 53%] \u001b[32mBuilding CXX object src/CMakeFiles/bifrost_dynamic.dir/BitContainer.cpp.o\u001b[0m\n",
            "[ 56%] \u001b[32mBuilding CXX object src/CMakeFiles/bifrost_dynamic.dir/BlockedBloomFilter.cpp.o\u001b[0m\n",
            "[ 59%] \u001b[32mBuilding CXX object src/CMakeFiles/bifrost_dynamic.dir/ColorSet.cpp.o\u001b[0m\n",
            "[ 62%] \u001b[32mBuilding CXX object src/CMakeFiles/bifrost_dynamic.dir/CompressedCoverage.cpp.o\u001b[0m\n",
            "[ 65%] \u001b[32mBuilding CXX object src/CMakeFiles/bifrost_dynamic.dir/CompressedSequence.cpp.o\u001b[0m\n",
            "[ 68%] \u001b[32mBuilding CXX object src/CMakeFiles/bifrost_dynamic.dir/FASTX_Parser.cpp.o\u001b[0m\n",
            "[ 71%] \u001b[32mBuilding CXX object src/CMakeFiles/bifrost_dynamic.dir/GFA_Parser.cpp.o\u001b[0m\n",
            "[ 75%] \u001b[32mBuilding CXX object src/CMakeFiles/bifrost_dynamic.dir/Kmer.cpp.o\u001b[0m\n",
            "[ 78%] \u001b[32mBuilding CXX object src/CMakeFiles/bifrost_dynamic.dir/KmerIterator.cpp.o\u001b[0m\n",
            "[ 81%] \u001b[32mBuilding CXX object src/CMakeFiles/bifrost_dynamic.dir/MinimizerIndex.cpp.o\u001b[0m\n",
            "[ 84%] \u001b[32mBuilding CXX object src/CMakeFiles/bifrost_dynamic.dir/TinyBitmap.cpp.o\u001b[0m\n",
            "[ 87%] \u001b[32mBuilding CXX object src/CMakeFiles/bifrost_dynamic.dir/UnitigMap.cpp.o\u001b[0m\n",
            "[ 90%] \u001b[32mBuilding C object src/CMakeFiles/bifrost_dynamic.dir/roaring.c.o\u001b[0m\n",
            "[ 93%] \u001b[32m\u001b[1mLinking CXX shared library libbifrost.so\u001b[0m\n",
            "[ 93%] Built target bifrost_dynamic\n",
            "[ 96%] \u001b[32mBuilding CXX object src/CMakeFiles/Bifrost.dir/Bifrost.cpp.o\u001b[0m\n",
            "[100%] \u001b[32m\u001b[1mLinking CXX executable Bifrost\u001b[0m\n",
            "[100%] Built target Bifrost\n",
            "[ 26%] \u001b[34m\u001b[1mNo install step for 'bifrost'\u001b[0m\n",
            "[ 30%] \u001b[34m\u001b[1mCompleted 'bifrost'\u001b[0m\n",
            "[ 30%] Built target bifrost\n",
            "[ 34%] \u001b[32mBuilding CXX object src/CMakeFiles/kallisto_core.dir/BUSData.cpp.o\u001b[0m\n",
            "[ 38%] \u001b[32mBuilding CXX object src/CMakeFiles/kallisto_core.dir/BUSTools.cpp.o\u001b[0m\n",
            "[ 42%] \u001b[32mBuilding CXX object src/CMakeFiles/kallisto_core.dir/Bootstrap.cpp.o\u001b[0m\n",
            "[ 46%] \u001b[32mBuilding CXX object src/CMakeFiles/kallisto_core.dir/GeneModel.cpp.o\u001b[0m\n",
            "[ 50%] \u001b[32mBuilding CXX object src/CMakeFiles/kallisto_core.dir/H5Writer.cpp.o\u001b[0m\n",
            "[ 53%] \u001b[32mBuilding CXX object src/CMakeFiles/kallisto_core.dir/KmerIndex.cpp.o\u001b[0m\n",
            "[ 57%] \u001b[32mBuilding CXX object src/CMakeFiles/kallisto_core.dir/MinCollector.cpp.o\u001b[0m\n",
            "[ 61%] \u001b[32mBuilding CXX object src/CMakeFiles/kallisto_core.dir/PlaintextWriter.cpp.o\u001b[0m\n",
            "[ 65%] \u001b[32mBuilding CXX object src/CMakeFiles/kallisto_core.dir/ProcessReads.cpp.o\u001b[0m\n",
            "[ 69%] \u001b[32mBuilding CXX object src/CMakeFiles/kallisto_core.dir/PseudoBam.cpp.o\u001b[0m\n",
            "[ 73%] \u001b[32mBuilding CXX object src/CMakeFiles/kallisto_core.dir/common.cpp.o\u001b[0m\n",
            "[ 76%] \u001b[32mBuilding CXX object src/CMakeFiles/kallisto_core.dir/h5utils.cpp.o\u001b[0m\n",
            "[ 80%] \u001b[32mBuilding CXX object src/CMakeFiles/kallisto_core.dir/hash.cpp.o\u001b[0m\n",
            "[ 84%] \u001b[32mBuilding CXX object src/CMakeFiles/kallisto_core.dir/main.cpp.o\u001b[0m\n",
            "[ 88%] \u001b[32mBuilding CXX object src/CMakeFiles/kallisto_core.dir/weights.cpp.o\u001b[0m\n",
            "[ 92%] \u001b[32m\u001b[1mLinking CXX static library libkallisto_core.a\u001b[0m\n",
            "[ 92%] Built target kallisto_core\n",
            "[ 96%] \u001b[32mBuilding CXX object src/CMakeFiles/kallisto.dir/main.cpp.o\u001b[0m\n",
            "[100%] \u001b[32m\u001b[1mLinking CXX executable kallisto\u001b[0m\n",
            "[100%] Built target kallisto\n",
            "[ 30%] Built target bifrost\n",
            "[ 92%] Built target kallisto_core\n",
            "[100%] Built target kallisto\n",
            "\u001b[36mInstall the project...\u001b[0m\n",
            "-- Install configuration: \"Release\"\n",
            "-- Installing: /usr/local/bin/kallisto\n"
          ]
        }
      ]
    },
    {
      "cell_type": "markdown",
      "source": [
        "# Download reference and scRNAseq data"
      ],
      "metadata": {
        "id": "9diQpPTDA2BP"
      }
    },
    {
      "cell_type": "code",
      "source": [
        "# Download host transcriptome to mask host sequences in the virus index\n",
        "!gget ref -d -w dna mus_musculus"
      ],
      "metadata": {
        "colab": {
          "base_uri": "https://localhost:8080/"
        },
        "id": "VtqWrGi6UDF3",
        "outputId": "8d3043b6-4d7a-4df6-a4fb-c6153248ca42"
      },
      "execution_count": 3,
      "outputs": [
        {
          "output_type": "stream",
          "name": "stdout",
          "text": [
            "Wed May 10 18:58:56 2023 INFO Fetching reference information for mus_musculus from Ensembl release: 109.\n",
            "{\n",
            "    \"mus_musculus\": {\n",
            "        \"genome_dna\": {\n",
            "            \"ftp\": \"http://ftp.ensembl.org/pub/release-109/fasta/mus_musculus/dna/Mus_musculus.GRCm39.dna.primary_assembly.fa.gz\",\n",
            "            \"ensembl_release\": 109,\n",
            "            \"release_date\": \"2022-12-13\",\n",
            "            \"release_time\": \"00:07\",\n",
            "            \"bytes\": \"769M\"\n",
            "        }\n",
            "    }\n",
            "}\n",
            "  % Total    % Received % Xferd  Average Speed   Time    Time     Time  Current\n",
            "                                 Dload  Upload   Total   Spent    Left  Speed\n",
            "100  769M  100  769M    0     0   480k      0  0:27:18  0:27:18 --:--:--  486k\n"
          ]
        }
      ]
    },
    {
      "cell_type": "markdown",
      "source": [
        "You can find an overview of the available SRR files for the APOE knock-in study [here](https://www.ncbi.nlm.nih.gov/Traces/study/?acc=PRJNA820450&o=acc_s%3Aa)."
      ],
      "metadata": {
        "id": "30tLy3pXAItk"
      }
    },
    {
      "cell_type": "code",
      "source": [
        "# Get download links for scRNAseq data using ffq\n",
        "!ffq --ftp SRR18496017"
      ],
      "metadata": {
        "colab": {
          "base_uri": "https://localhost:8080/"
        },
        "id": "_gx8VcSrUH_N",
        "outputId": "69b2e495-7a16-4d69-a9eb-97ee85a9a299"
      },
      "execution_count": 4,
      "outputs": [
        {
          "output_type": "stream",
          "name": "stdout",
          "text": [
            "[2023-05-10 19:26:17,488]    INFO Parsing run SRR18496017\n",
            "[\n",
            "    {\n",
            "        \"accession\": \"SRR18496017\",\n",
            "        \"filename\": \"SRR18496017_1.fastq.gz\",\n",
            "        \"filetype\": \"fastq\",\n",
            "        \"filesize\": 8155785876,\n",
            "        \"filenumber\": 1,\n",
            "        \"md5\": \"0829cf97df33da59a2d335f15ba4e673\",\n",
            "        \"urltype\": \"ftp\",\n",
            "        \"url\": \"ftp://ftp.sra.ebi.ac.uk/vol1/fastq/SRR184/017/SRR18496017/SRR18496017_1.fastq.gz\"\n",
            "    },\n",
            "    {\n",
            "        \"accession\": \"SRR18496017\",\n",
            "        \"filename\": \"SRR18496017_2.fastq.gz\",\n",
            "        \"filetype\": \"fastq\",\n",
            "        \"filesize\": 7571634748,\n",
            "        \"filenumber\": 2,\n",
            "        \"md5\": \"f87d4358177b7748af4cafc1d51c2d1f\",\n",
            "        \"urltype\": \"ftp\",\n",
            "        \"url\": \"ftp://ftp.sra.ebi.ac.uk/vol1/fastq/SRR184/017/SRR18496017/SRR18496017_2.fastq.gz\"\n",
            "    }\n",
            "]\n"
          ]
        }
      ]
    },
    {
      "cell_type": "code",
      "source": [
        "# Download scRNAseq data\n",
        "!curl -O ftp://ftp.sra.ebi.ac.uk/vol1/fastq/SRR184/017/SRR18496017/SRR18496017_1.fastq.gz\n",
        "!curl -O ftp://ftp.sra.ebi.ac.uk/vol1/fastq/SRR184/017/SRR18496017/SRR18496017_2.fastq.gz"
      ],
      "metadata": {
        "colab": {
          "base_uri": "https://localhost:8080/"
        },
        "id": "_nOGn8IrAMB8",
        "outputId": "f4d2b14b-d837-41bc-993b-000d8f43443b"
      },
      "execution_count": 5,
      "outputs": [
        {
          "output_type": "stream",
          "name": "stdout",
          "text": [
            "  % Total    % Received % Xferd  Average Speed   Time    Time     Time  Current\n",
            "                                 Dload  Upload   Total   Spent    Left  Speed\n",
            "100 7777M  100 7777M    0     0  22.3M      0  0:05:47  0:05:47 --:--:-- 22.1M\n",
            "  % Total    % Received % Xferd  Average Speed   Time    Time     Time  Current\n",
            "                                 Dload  Upload   Total   Spent    Left  Speed\n",
            "100 7220M  100 7220M    0     0  22.5M      0  0:05:20  0:05:20 --:--:-- 22.3M\n"
          ]
        }
      ]
    },
    {
      "cell_type": "code",
      "source": [
        "# Download fasta (and annotations) containing PalmDB amino acid reference sequences\n",
        "!curl -O https://raw.githubusercontent.com/lauraluebbert/kallistoXpalmdb/main/palmdb_clustered.fasta\n",
        "!curl -O https://raw.githubusercontent.com/lauraluebbert/kallistoXpalmdb/main/palmdb_clustered.gtf\n",
        "\n",
        "# Download virus ID to taxonomy mapping\n",
        "!curl -O https://raw.githubusercontent.com/lauraluebbert/kallistoXpalmdb/main/palmID_to_taxonomy_mapping.tsv"
      ],
      "metadata": {
        "colab": {
          "base_uri": "https://localhost:8080/"
        },
        "id": "5iLX5dsw4-TU",
        "outputId": "8a8be1d3-8b95-4fc3-9ab2-c9b8b2667cf0"
      },
      "execution_count": 6,
      "outputs": [
        {
          "output_type": "stream",
          "name": "stdout",
          "text": [
            "  % Total    % Received % Xferd  Average Speed   Time    Time     Time  Current\n",
            "                                 Dload  Upload   Total   Spent    Left  Speed\n",
            "100  819k  100  819k    0     0  2978k      0 --:--:-- --:--:-- --:--:-- 2978k\n",
            "  % Total    % Received % Xferd  Average Speed   Time    Time     Time  Current\n",
            "                                 Dload  Upload   Total   Spent    Left  Speed\n",
            "100 8051k  100 8051k    0     0  12.2M      0 --:--:-- --:--:-- --:--:-- 12.2M\n",
            "  % Total    % Received % Xferd  Average Speed   Time    Time     Time  Current\n",
            "                                 Dload  Upload   Total   Spent    Left  Speed\n",
            "100  321k  100  321k    0     0  1459k      0 --:--:-- --:--:-- --:--:-- 1452k\n"
          ]
        }
      ]
    },
    {
      "cell_type": "markdown",
      "source": [
        "# Build virus reference index from PalmDB amino acid sequences\n",
        "You can find the kallisto bustools manual and tutorials [here](https://www.kallistobus.tools/).\n",
        "\n",
        "The `--aa` argument tells kb that this is an amino acid reference.  \n",
        "\n",
        "The `--d-list` argument is the path to the **host** transcriptome. These sequences will be masked in the index.\n",
        "\n",
        "Since we installed kallisto from source, we have to tell kb where to find the kallisto binary using the `--kallisto` argument. This will not be neccesary anymore after the official release.\n",
        "\n",
        "(Note: The `--d-list` and `--aa` arguments currently significantly slow down both the `kb ref` and the `kb count` commands. However, we already have some ideas to speed things up before the official release.)"
      ],
      "metadata": {
        "id": "gc_Cfc4r33EG"
      }
    },
    {
      "cell_type": "code",
      "source": [
        "%%time\n",
        "!kb ref \\\n",
        "  --aa \\\n",
        "  --d-list Mus_musculus.GRCm39.dna.primary_assembly.fa.gz \\\n",
        "  -t 2 \\\n",
        "  -i index.idx \\\n",
        "  -g t2g.txt \\\n",
        "  -f1 transcriptome.fa \\\n",
        "  --kallisto /usr/local/bin/kallisto \\\n",
        "  palmdb_clustered.fasta \\\n",
        "  palmdb_clustered.gtf"
      ],
      "metadata": {
        "colab": {
          "base_uri": "https://localhost:8080/"
        },
        "id": "WzvFDiRX-NE6",
        "outputId": "37e8ac21-1c87-4523-9149-6dc595694c93"
      },
      "execution_count": 7,
      "outputs": [
        {
          "output_type": "stream",
          "name": "stdout",
          "text": [
            "[2023-05-10 19:37:41,559]   DEBUG [main] Printing verbose output\n",
            "[2023-05-10 19:37:43,768]   DEBUG [main] kallisto binary located at /usr/local/bin/kallisto\n",
            "[2023-05-10 19:37:43,768]   DEBUG [main] bustools binary located at /usr/local/lib/python3.10/dist-packages/kb_python/bins/linux/bustools/bustools\n",
            "[2023-05-10 19:37:43,768]   DEBUG [main] Creating `tmp` directory\n",
            "[2023-05-10 19:37:43,769]   DEBUG [main] Namespace(list=False, command='ref', tmp=None, keep_tmp=False, verbose=True, i='index.idx', g='t2g.txt', f1='transcriptome.fa', include_attribute=None, exclude_attribute=None, f2=None, c1=None, c2=None, d=None, k=None, t=2, d_list='Mus_musculus.GRCm39.dna.primary_assembly.fa.gz', aa=True, workflow='standard', make_unique=False, overwrite=False, kallisto='/usr/local/bin/kallisto', bustools='/usr/local/lib/python3.10/dist-packages/kb_python/bins/linux/bustools/bustools', fasta='palmdb_clustered.fasta', gtf='palmdb_clustered.gtf', feature=None, no_mismatches=False, flank=None)\n",
            "[2023-05-10 19:37:43,769]    INFO [ref] Preparing palmdb_clustered.fasta, palmdb_clustered.gtf\n",
            "[2023-05-10 19:37:44,559]    INFO [ref] Splitting genome palmdb_clustered.fasta into cDNA at /content/tmp/tmphs52khxk\n",
            "[2023-05-10 19:38:12,945]    INFO [ref] Concatenating 1 cDNAs to transcriptome.fa\n",
            "[2023-05-10 19:38:12,953]    INFO [ref] Creating transcript-to-gene mapping at t2g.txt\n",
            "[2023-05-10 19:38:12,962]    INFO [ref] Indexing transcriptome.fa to index.idx\n",
            "[2023-05-10 19:38:12,963]   DEBUG [ref] kallisto index -i index.idx -k 31 -t 2 -d Mus_musculus.GRCm39.dna.primary_assembly.fa.gz --aa transcriptome.fa\n",
            "[2023-05-10 19:38:13,064]   DEBUG [ref] \n",
            "[2023-05-10 19:38:13,064]   DEBUG [ref] [build] loading fasta file transcriptome.fa\n",
            "[2023-05-10 19:38:13,064]   DEBUG [ref] [build] k-mer length: 31\n",
            "[2023-05-10 19:38:13,064]   DEBUG [ref] KmerStream::KmerStream(): Start computing k-mer cardinality estimations (1/2)\n",
            "[2023-05-10 19:38:13,165]   DEBUG [ref] KmerStream::KmerStream(): Start computing k-mer cardinality estimations (1/2)\n",
            "[2023-05-10 19:38:13,466]   DEBUG [ref] KmerStream::KmerStream(): Finished\n",
            "[2023-05-10 19:38:13,869]   DEBUG [ref] CompactedDBG::build(): Estimated number of k-mers occurring at least once: 2074147\n",
            "[2023-05-10 19:38:13,869]   DEBUG [ref] CompactedDBG::build(): Estimated number of minimizer occurring at least once: 512994\n",
            "[2023-05-10 19:38:14,584]   DEBUG [ref] CompactedDBG::filter(): Processed 2118087 k-mers in 6518 reads\n",
            "[2023-05-10 19:38:14,585]   DEBUG [ref] CompactedDBG::filter(): Found 2073306 unique k-mers\n",
            "[2023-05-10 19:38:14,585]   DEBUG [ref] CompactedDBG::filter(): Number of blocks in Bloom filter is 14180\n",
            "[2023-05-10 19:38:14,685]   DEBUG [ref] CompactedDBG::construct(): Extract approximate unitigs (1/2)\n",
            "[2023-05-10 19:38:18,910]   DEBUG [ref] CompactedDBG::construct(): Extract approximate unitigs (2/2)\n",
            "[2023-05-10 19:38:19,011]   DEBUG [ref] CompactedDBG::construct(): Closed all input files\n",
            "[2023-05-10 19:38:19,011]   DEBUG [ref] \n",
            "[2023-05-10 19:38:19,011]   DEBUG [ref] CompactedDBG::construct(): Splitting unitigs (1/2)\n",
            "[2023-05-10 19:38:19,011]   DEBUG [ref] \n",
            "[2023-05-10 19:38:19,011]   DEBUG [ref] CompactedDBG::construct(): Splitting unitigs (2/2)\n",
            "[2023-05-10 19:38:19,011]   DEBUG [ref] CompactedDBG::construct(): Before split: 18176 unitigs\n",
            "[2023-05-10 19:38:19,011]   DEBUG [ref] CompactedDBG::construct(): After split (1/1): 18176 unitigs\n",
            "[2023-05-10 19:38:19,011]   DEBUG [ref] CompactedDBG::construct(): Unitigs split: 176\n",
            "[2023-05-10 19:38:19,011]   DEBUG [ref] CompactedDBG::construct(): Unitigs deleted: 0\n",
            "[2023-05-10 19:38:19,011]   DEBUG [ref] \n",
            "[2023-05-10 19:38:19,012]   DEBUG [ref] CompactedDBG::construct(): Joining unitigs\n",
            "[2023-05-10 19:38:19,212]   DEBUG [ref] CompactedDBG::construct(): After join: 17087 unitigs\n",
            "[2023-05-10 19:38:19,212]   DEBUG [ref] CompactedDBG::construct(): Joined 1108 unitigs\n",
            "[2023-05-10 19:38:19,212]   DEBUG [ref] [build] extracting distinguishing flanking k-mers from \"Mus_musculus.GRCm39.dna.primary_assembly.fa.gz\"\n",
            "[2023-05-10 20:03:15,475]   DEBUG [ref] [build] identified 212 distinguishing flanking k-mers\n",
            "[2023-05-10 20:03:15,678]   DEBUG [ref] [build] building MPHF\n",
            "[2023-05-10 20:03:15,881]   DEBUG [ref] [build] creating equivalence classes ...\n",
            "[2023-05-10 20:03:15,981]   DEBUG [ref] [build] target de Bruijn graph has k-mer length 31 and minimizer length 23\n",
            "[2023-05-10 20:03:15,982]   DEBUG [ref] [build] target de Bruijn graph has 17264 contigs and contains 2075253 k-mers\n",
            "[2023-05-10 20:03:17,083]   DEBUG [ref] \n",
            "[2023-05-10 20:03:17,097]   DEBUG [main] Removing `tmp` directory\n",
            "CPU times: user 11.5 s, sys: 1.57 s, total: 13.1 s\n",
            "Wall time: 25min 46s\n"
          ]
        }
      ]
    },
    {
      "cell_type": "markdown",
      "source": [
        "# Align sequencing data and generate virus count matrix"
      ],
      "metadata": {
        "id": "XhaG2fdy35Jh"
      }
    },
    {
      "cell_type": "code",
      "source": [],
      "metadata": {
        "id": "BxEKYieAex-Y"
      },
      "execution_count": null,
      "outputs": []
    },
    {
      "cell_type": "code",
      "source": [
        "%%time\n",
        "!kb count \\\n",
        "  --verbose \\\n",
        "  --aa \\\n",
        "  --h5ad \\\n",
        "  -t 2 \\\n",
        "  -i index.idx \\\n",
        "  -g t2g.txt \\\n",
        "  -x split-seq \\\n",
        "  -o kb_results \\\n",
        "  --kallisto /usr/local/bin/kallisto \\\n",
        "  SRR18496017_1.fastq.gz \\\n",
        "  SRR18496017_2.fastq.gz"
      ],
      "metadata": {
        "colab": {
          "base_uri": "https://localhost:8080/"
        },
        "id": "fYgxpSf2Rc0-",
        "outputId": "787fd5a2-d7ec-423d-dc45-b609d87c58af"
      },
      "execution_count": 8,
      "outputs": [
        {
          "output_type": "stream",
          "name": "stdout",
          "text": [
            "[2023-05-10 20:03:24,251]   DEBUG [main] Printing verbose output\n",
            "[2023-05-10 20:03:26,365]   DEBUG [main] kallisto binary located at /usr/local/bin/kallisto\n",
            "[2023-05-10 20:03:26,366]   DEBUG [main] bustools binary located at /usr/local/lib/python3.10/dist-packages/kb_python/bins/linux/bustools/bustools\n",
            "[2023-05-10 20:03:26,366]   DEBUG [main] Creating `kb_results/tmp` directory\n",
            "[2023-05-10 20:03:26,366]   DEBUG [main] Namespace(list=False, command='count', tmp=None, keep_tmp=False, verbose=True, i='index.idx', g='t2g.txt', x='split-seq', o='kb_results', w=None, r=None, t=2, m='2G', strand=None, inleaved=False, genomebam=False, aa=True, gtf=None, chromosomes=None, workflow='standard', em=False, mm=False, tcc=False, filter=None, filter_threshold=None, c1=None, c2=None, overwrite=False, dry_run=False, batch_barcodes=False, loom=False, h5ad=True, loom_names='barcode,target_name', sum='none', cellranger=False, gene_names=False, report=False, no_inspect=False, kallisto='/usr/local/bin/kallisto', bustools='/usr/local/lib/python3.10/dist-packages/kb_python/bins/linux/bustools/bustools', no_validate=False, parity=None, fragment_l=None, fragment_s=None, fastqs=['SRR18496017_1.fastq.gz', 'SRR18496017_2.fastq.gz'])\n",
            "[2023-05-10 20:03:29,136]    INFO [count] Using index index.idx to generate BUS file to kb_results from\n",
            "[2023-05-10 20:03:29,136]    INFO [count]         SRR18496017_1.fastq.gz\n",
            "[2023-05-10 20:03:29,136]    INFO [count]         SRR18496017_2.fastq.gz\n",
            "[2023-05-10 20:03:29,136]   DEBUG [count] kallisto bus -i index.idx -o kb_results -x split-seq -t 2 --aa SRR18496017_1.fastq.gz SRR18496017_2.fastq.gz\n",
            "[2023-05-10 20:03:29,237]   DEBUG [count] \n",
            "[2023-05-10 20:03:29,238]   DEBUG [count] [bus] Note: Strand option was not specified; setting it to --unstranded for specified technology\n",
            "[2023-05-10 20:03:29,338]   DEBUG [count] [index] k-mer length: 31\n",
            "[2023-05-10 20:03:29,438]   DEBUG [count] [index] number of targets: 6,518\n",
            "[2023-05-10 20:03:29,439]   DEBUG [count] [index] number of k-mers: 2,075,253\n",
            "[2023-05-10 20:03:29,439]   DEBUG [count] [index] number of distinguishing flanking k-mers: 212\n",
            "[2023-05-10 20:03:29,439]   DEBUG [count] [quant] will process sample 1: SRR18496017_1.fastq.gz\n",
            "[2023-05-10 20:03:29,439]   DEBUG [count] SRR18496017_2.fastq.gz\n",
            "[2023-05-10 20:05:04,685]   DEBUG [count] [quant] finding pseudoalignments for the reads ...\n",
            "[2023-05-10 20:06:39,867]   DEBUG [count] [progress] 1M reads processed (0.5% mapped)\n",
            "[2023-05-10 20:08:20,161]   DEBUG [count] [progress] 2M reads processed (0.5% mapped)\n",
            "[2023-05-10 20:09:55,511]   DEBUG [count] [progress] 3M reads processed (0.5% mapped)\n",
            "[2023-05-10 20:11:30,826]   DEBUG [count] [progress] 4M reads processed (0.5% mapped)\n",
            "[2023-05-10 20:13:05,465]   DEBUG [count] [progress] 5M reads processed (0.5% mapped)\n",
            "[2023-05-10 20:14:40,411]   DEBUG [count] [progress] 6M reads processed (0.5% mapped)\n",
            "[2023-05-10 20:16:15,153]   DEBUG [count] [progress] 7M reads processed (0.5% mapped)\n",
            "[2023-05-10 20:17:53,753]   DEBUG [count] [progress] 8M reads processed (0.5% mapped)\n",
            "[2023-05-10 20:19:28,610]   DEBUG [count] [progress] 9M reads processed (0.5% mapped)\n",
            "[2023-05-10 20:21:03,539]   DEBUG [count] [progress] 10M reads processed (0.5% mapped)\n",
            "[2023-05-10 20:22:38,399]   DEBUG [count] [progress] 11M reads processed (0.5% mapped)\n",
            "[2023-05-10 20:24:12,801]   DEBUG [count] [progress] 12M reads processed (0.5% mapped)\n",
            "[2023-05-10 20:25:47,678]   DEBUG [count] [progress] 13M reads processed (0.5% mapped)\n",
            "[2023-05-10 20:27:22,699]   DEBUG [count] [progress] 14M reads processed (0.5% mapped)\n",
            "[2023-05-10 20:29:02,909]   DEBUG [count] [progress] 15M reads processed (0.5% mapped)\n",
            "[2023-05-10 20:30:38,140]   DEBUG [count] [progress] 16M reads processed (0.5% mapped)\n",
            "[2023-05-10 20:32:13,086]   DEBUG [count] [progress] 17M reads processed (0.5% mapped)\n",
            "[2023-05-10 20:33:47,877]   DEBUG [count] [progress] 18M reads processed (0.5% mapped)\n",
            "[2023-05-10 20:35:22,589]   DEBUG [count] [progress] 19M reads processed (0.5% mapped)\n",
            "[2023-05-10 20:36:57,575]   DEBUG [count] [progress] 20M reads processed (0.5% mapped)\n",
            "[2023-05-10 20:38:38,369]   DEBUG [count] [progress] 21M reads processed (0.5% mapped)\n",
            "[2023-05-10 20:40:12,689]   DEBUG [count] [progress] 22M reads processed (0.5% mapped)\n",
            "[2023-05-10 20:41:47,851]   DEBUG [count] [progress] 23M reads processed (0.5% mapped)\n",
            "[2023-05-10 20:43:22,938]   DEBUG [count] [progress] 24M reads processed (0.5% mapped)\n",
            "[2023-05-10 20:44:57,457]   DEBUG [count] [progress] 25M reads processed (0.5% mapped)\n",
            "[2023-05-10 20:46:33,089]   DEBUG [count] [progress] 26M reads processed (0.5% mapped)\n",
            "[2023-05-10 20:48:08,027]   DEBUG [count] [progress] 27M reads processed (0.5% mapped)\n",
            "[2023-05-10 20:49:42,905]   DEBUG [count] [progress] 28M reads processed (0.5% mapped)\n",
            "[2023-05-10 20:51:19,097]   DEBUG [count] [progress] 30M reads processed (0.5% mapped)\n",
            "[2023-05-10 20:52:54,241]   DEBUG [count] [progress] 31M reads processed (0.5% mapped)\n",
            "[2023-05-10 20:54:32,775]   DEBUG [count] [progress] 32M reads processed (0.5% mapped)\n",
            "[2023-05-10 20:56:07,435]   DEBUG [count] [progress] 33M reads processed (0.5% mapped)\n",
            "[2023-05-10 20:57:42,103]   DEBUG [count] [progress] 34M reads processed (0.5% mapped)\n",
            "[2023-05-10 20:59:20,152]   DEBUG [count] [progress] 35M reads processed (0.5% mapped)\n",
            "[2023-05-10 21:00:55,052]   DEBUG [count] [progress] 36M reads processed (0.5% mapped)\n",
            "[2023-05-10 21:02:31,379]   DEBUG [count] [progress] 37M reads processed (0.5% mapped)\n",
            "[2023-05-10 21:04:06,309]   DEBUG [count] [progress] 38M reads processed (0.5% mapped)\n",
            "[2023-05-10 21:04:44,874]   DEBUG [main] Removing `kb_results/tmp` directory\n",
            "Traceback (most recent call last):\n",
            "  File \"/usr/local/lib/python3.10/dist-packages/kb_python/main.py\", line 1444, in main\n",
            "    COMMAND_TO_FUNCTION[args.command](parser, args, temp_dir=temp_dir)\n",
            "  File \"/usr/local/lib/python3.10/dist-packages/kb_python/main.py\", line 584, in parse_count\n",
            "    count(\n",
            "  File \"/usr/local/lib/python3.10/dist-packages/ngs_tools/logging.py\", line 62, in inner\n",
            "    return func(*args, **kwargs)\n",
            "  File \"/usr/local/lib/python3.10/dist-packages/kb_python/count.py\", line 1222, in count\n",
            "    bus_result = kallisto_bus(\n",
            "  File \"/usr/local/lib/python3.10/dist-packages/kb_python/validate.py\", line 116, in inner\n",
            "    results = func(*args, **kwargs)\n",
            "  File \"/usr/local/lib/python3.10/dist-packages/kb_python/count.py\", line 199, in kallisto_bus\n",
            "    run_executable(command)\n",
            "  File \"/usr/local/lib/python3.10/dist-packages/kb_python/dry/__init__.py\", line 25, in inner\n",
            "    return func(*args, **kwargs)\n",
            "  File \"/usr/local/lib/python3.10/dist-packages/kb_python/utils.py\", line 184, in run_executable\n",
            "    time.sleep(0.1)\n",
            "KeyboardInterrupt\n",
            "\n",
            "During handling of the above exception, another exception occurred:\n",
            "\n",
            "Traceback (most recent call last):\n",
            "  File \"/usr/local/bin/kb\", line 8, in <module>\n",
            "    sys.exit(main())\n",
            "  File \"/usr/local/lib/python3.10/dist-packages/ngs_tools/logging.py\", line 62, in inner\n",
            "    return func(*args, **kwargs)\n",
            "  File \"/usr/local/lib/python3.10/dist-packages/kb_python/main.py\", line 1442, in main\n",
            "    with warnings.catch_warnings():\n",
            "  File \"/usr/lib/python3.10/warnings.py\", line 478, in __exit__\n",
            "    if not self._entered:\n",
            "KeyboardInterrupt\n",
            "^C\n",
            "CPU times: user 21.4 s, sys: 2.88 s, total: 24.3 s\n",
            "Wall time: 1h 1min 26s\n"
          ]
        }
      ]
    },
    {
      "cell_type": "markdown",
      "source": [
        "# Visualize virus counts "
      ],
      "metadata": {
        "id": "2GYJbkkV9piY"
      }
    },
    {
      "cell_type": "code",
      "source": [
        "# Load virus ID to taxonomy mapping\n",
        "tax_df = pd.read_csv(\"palmID_to_taxonomy_mapping.tsv\", sep='\\t')\n",
        "tax_df.head()"
      ],
      "metadata": {
        "colab": {
          "base_uri": "https://localhost:8080/",
          "height": 204
        },
        "id": "KNKKUyVv9y0m",
        "outputId": "930c84e5-f05e-4b3e-f2f1-cb6a2efb5abe"
      },
      "execution_count": 9,
      "outputs": [
        {
          "output_type": "error",
          "ename": "NameError",
          "evalue": "ignored",
          "traceback": [
            "\u001b[0;31m---------------------------------------------------------------------------\u001b[0m",
            "\u001b[0;31mNameError\u001b[0m                                 Traceback (most recent call last)",
            "\u001b[0;32m<ipython-input-9-2a4f8c4ab77c>\u001b[0m in \u001b[0;36m<cell line: 2>\u001b[0;34m()\u001b[0m\n\u001b[1;32m      1\u001b[0m \u001b[0;31m# Load virus ID to taxonomy mapping\u001b[0m\u001b[0;34m\u001b[0m\u001b[0;34m\u001b[0m\u001b[0m\n\u001b[0;32m----> 2\u001b[0;31m \u001b[0mtax_df\u001b[0m \u001b[0;34m=\u001b[0m \u001b[0mpd\u001b[0m\u001b[0;34m.\u001b[0m\u001b[0mread_csv\u001b[0m\u001b[0;34m(\u001b[0m\u001b[0;34m\"palmID_to_taxonomy_mapping.tsv\"\u001b[0m\u001b[0;34m,\u001b[0m \u001b[0msep\u001b[0m\u001b[0;34m=\u001b[0m\u001b[0;34m'\\t'\u001b[0m\u001b[0;34m)\u001b[0m\u001b[0;34m\u001b[0m\u001b[0;34m\u001b[0m\u001b[0m\n\u001b[0m\u001b[1;32m      3\u001b[0m \u001b[0mtax_df\u001b[0m\u001b[0;34m.\u001b[0m\u001b[0mhead\u001b[0m\u001b[0;34m(\u001b[0m\u001b[0;34m)\u001b[0m\u001b[0;34m\u001b[0m\u001b[0;34m\u001b[0m\u001b[0m\n",
            "\u001b[0;31mNameError\u001b[0m: name 'pd' is not defined"
          ]
        }
      ]
    },
    {
      "cell_type": "code",
      "source": [
        "# Load AnnData object retured by kb-python containing virus counts\n",
        "import anndata\n",
        "adata = anndata.read()"
      ],
      "metadata": {
        "id": "zwkc6msURPT8"
      },
      "execution_count": null,
      "outputs": []
    },
    {
      "cell_type": "code",
      "source": [
        "fig, ax = plt.subplots(figsize=(10, 5))\n",
        "fontsize = 14\n",
        "\n",
        "samples = [\"-30d\", \"-4d\", \"0d\", \"\", \"4h\", \"24h\", \"\", \"3d\", \"4d\", \"5d\", \"6d\", \"7d\", \"8d\"]\n",
        "labels = samples\n",
        "virus_id = \"u55137\"\n",
        "\n",
        "cellnum = []\n",
        "counts = []\n",
        "for sample in samples:\n",
        "    count = palmdb_ebov.X[palmdb_ebov.obs.dpi_clean == sample, palmdb_ebov.var.index == virus_id].sum()\n",
        "    counts.append(count)\n",
        "    if count > 0:\n",
        "        cellnum.append(len(nd(palmdb_ebov.X[palmdb_ebov.obs.dpi_clean == sample, palmdb_ebov.var.index == virus_id])))\n",
        "    else:\n",
        "        cellnum.append(0)\n",
        "\n",
        "fontsize = 14\n",
        "width = 0.4\n",
        "x = np.arange(len(labels))\n",
        "\n",
        "ax.bar(x-width/2, counts, width=width, label=f\"UMI counts\", color=\"#d42526\", edgecolor=\"black\")\n",
        "ax.bar(x+width/2, cellnum, width=width, label=f\"EBOV+ cells\", color=\"#d42526\", alpha=0.5, edgecolor=\"black\")\n",
        "\n",
        "ax.set_yscale(\"log\")\n",
        "ax.set_ylabel(\"Total count\", fontsize=fontsize)\n",
        "ax.set_xlabel(\"Timepoint\", fontsize=fontsize)\n",
        "ax.legend(loc=\"upper left\", fontsize=fontsize)\n",
        "\n",
        "ax.set_xticks(x, samples, rotation=0, ha=\"center\")\n",
        "# # Mark positive samples \n",
        "# for i, sample in enumerate(samples):\n",
        "#     if pos[i]:\n",
        "#         plt.gca().get_xticklabels()[i].set_color(\"red\") \n",
        "        \n",
        "ax.tick_params(axis=\"both\", labelsize=fontsize)\n",
        "ax.set_title(f\"Zaire Ebolavirus ({virus_id}) RdRP RNA molecule and cell counts\", fontsize=fontsize+2)\n",
        "\n",
        "ax.grid(True, which=\"both\", color=\"lightgray\")\n",
        "ax.set_axisbelow(True)\n",
        "    \n",
        "# plt.tight_layout()\n",
        "\n",
        "plt.savefig(\"figures/3.4_ebola_counts.png\", dpi=300, bbox_inches=\"tight\")\n",
        "plt.savefig(\"figures/3.4_ebola_counts.svg\", dpi=300, bbox_inches=\"tight\")\n",
        "\n",
        "fig.show()"
      ],
      "metadata": {
        "id": "W8HiPFQFdDfs"
      },
      "execution_count": null,
      "outputs": []
    },
    {
      "cell_type": "markdown",
      "source": [
        "Define virus filtering thresholds for bar and Krona plots:"
      ],
      "metadata": {
        "id": "KK45n2eKRqU8"
      }
    },
    {
      "cell_type": "code",
      "source": [
        "# Minimum count of virus in at least one cell\n",
        "count_threshold = 2\n",
        "# Minimum number of cells the virus was seen in\n",
        "num_cells_threshold = 100"
      ],
      "metadata": {
        "id": "LK7Ny_V0PfYz"
      },
      "execution_count": null,
      "outputs": []
    },
    {
      "cell_type": "code",
      "source": [
        "timepoints = ['-30d', '-4d', '0d', '4h', '24h', '3d', '4d', '5d', '6d', '7d', '8d']\n",
        "samples = []\n",
        "\n",
        "# Get counts for each virus per sample\n",
        "vir_fractions_df = pd.DataFrame()\n",
        "\n",
        "for idx, virus_id in enumerate(adata.var.index):\n",
        "    if adata.X[:, adata.var.index == virus_id].max() >= count_threshold and len(nd(adata.X[:, adata.var.index == virus_id].todense())) >= num_cells_threshold:\n",
        "        virus_counts = []\n",
        "        \n",
        "        for timepoint in timepoints:\n",
        "            for animal_id in adata.obs[adata.obs[\"dpi_clean\"] == timepoint][\"donor_animal\"].unique():\n",
        "                virus_counts.append(adata.X[(adata.obs[\"donor_animal\"] == animal_id) & (adata.obs[\"dpi_clean\"] == timepoint), adata.var.index == virus_id].sum())\n",
        "                \n",
        "                if idx == 0:\n",
        "                    samples.append(timepoint + \"_\" + animal_id)\n",
        "\n",
        "        utax_label = \"_\".join(phylogeny_data[phylogeny_data[\"Label\"] == virus_id].values[0]).replace(\"_.\", \"\")\n",
        "        vir_fractions_df[utax_label] = virus_counts\n",
        "\n",
        "vir_fractions_df[\"sample\"] = samples\n",
        "\n",
        "# De-fragment dataframe\n",
        "vir_fractions_df = vir_fractions_df.copy()\n",
        "\n",
        "# Set sample as index\n",
        "vir_fractions_df = vir_fractions_df.set_index(\"sample\")\n",
        "\n",
        "# Get total virus reads per sample\n",
        "vir_fractions_df[\"sample_total\"] = vir_fractions_df.sum(axis = 1)\n",
        "\n",
        "# Get fractions for each virus\n",
        "for virus in vir_fractions_df.columns[:-1]:\n",
        "    vir_fractions_df[f\"{virus}_fraction\"] = vir_fractions_df[virus] / vir_fractions_df[\"sample_total\"]\n",
        "    \n",
        "# De-fragment dataframe\n",
        "vir_fractions_df = vir_fractions_df.copy()\n",
        "\n",
        "# Sort by maximum value accross all samples\n",
        "vir_fractions_df = vir_fractions_df[vir_fractions_df.max().sort_values(ascending=False).index]\n",
        "\n",
        "vir_fractions_df.to_csv(\"3.5_vir_fracs_2.csv\")\n",
        "\n",
        "vir_fractions_df.head()"
      ],
      "metadata": {
        "id": "c7M7ZUHdO5j8"
      },
      "execution_count": null,
      "outputs": []
    },
    {
      "cell_type": "code",
      "source": [
        "fig, ax = plt.subplots(figsize=(20, 10))\n",
        "label_color=\"white\"\n",
        "fontsize = 14\n",
        "width = 0.75\n",
        "\n",
        "samples = vir_fractions_df.index.values\n",
        "x = np.arange(len(samples))\n",
        "bottom = np.zeros(len(samples))\n",
        "\n",
        "# cm = plt.get_cmap('tab20')\n",
        "# colormap = [\"tab:red\", \"pink\", \"#9467bd\", \"#c4b1d4\", \"#2aa12b\", \"#98df8a\", \"mediumorchid\", \"plum\", \"#1f77b4\", \"#afc6e8\", \"darkorange\", \"#ffbc77\"]\n",
        "NUM_COLORS = 20\n",
        "color_idx = 0\n",
        "second_hatch_round = False\n",
        "third_hatch_round = False\n",
        "forth_hatch_round = False\n",
        "hatch=\"\"\n",
        "mpl.rcParams['hatch.linewidth'] = 0.5\n",
        "legend_counter = 0\n",
        "\n",
        "for virus_column in vir_fractions_df.columns:\n",
        "    if \"_fraction\" in virus_column:\n",
        "# for virus_column in frac_cols_ebov:\n",
        "        label_temp = virus_column.split(\"_fraction\")[0]\n",
        "        # Split long labels after n characters\n",
        "        n = 79\n",
        "        label = (\"\\n\".join(label_temp[i:i+n] for i in range(0, len(label_temp), n))) if len(label_temp) > n else label_temp\n",
        "\n",
        "        # Only show labels for first n viruses (else legend will be too long / break plot)\n",
        "        if legend_counter <= 47:\n",
        "            ax.barh(x, vir_fractions_df[virus_column].values, width, label=label, left=bottom, color=plt.cm.tab20(color_idx), hatch=hatch)\n",
        "            legend_counter += 1\n",
        "        else:\n",
        "            ax.barh(x, vir_fractions_df[virus_column].values, width, left=bottom, color=plt.cm.tab20(color_idx), hatch=hatch)\n",
        "        \n",
        "        bottom += vir_fractions_df[virus_column].values\n",
        "\n",
        "        if color_idx == NUM_COLORS-1 and not second_hatch_round and not third_hatch_round and not forth_hatch_round:\n",
        "            hatch = \"/\"\n",
        "            second_hatch_round = True\n",
        "            color_idx = 0\n",
        "            continue\n",
        "        elif color_idx == NUM_COLORS-1 and second_hatch_round:\n",
        "            hatch = \"\\\\\"\n",
        "            color_idx = 0\n",
        "            second_hatch_round = False\n",
        "            third_hatch_round = True\n",
        "            continue\n",
        "        elif color_idx == NUM_COLORS-1 and third_hatch_round:\n",
        "            hatch = \"o\"\n",
        "            color_idx = 0\n",
        "            third_hatch_round = False\n",
        "            forth_hatch_round = True\n",
        "            continue\n",
        "        elif color_idx == NUM_COLORS-1 and forth_hatch_round:\n",
        "            hatch = \"+\"\n",
        "            color_idx = 0\n",
        "            continue\n",
        "        else:\n",
        "            color_idx += 1\n",
        "\n",
        "# Add number of total virus counts to plot and generate xtick labels\n",
        "ax.set_xlim(0, 1.08)\n",
        "sample_type_label = []\n",
        "x_height  = 1.005\n",
        "for i, sample in enumerate(samples):\n",
        "    total_count = \"{:,}\".format(vir_fractions_df[vir_fractions_df.index == sample][\"sample_total\"].values[0].astype(int))  \n",
        "    ax.annotate(total_count, (x_height, i), fontsize=fontsize-1, ha=\"left\", va=\"center\", color=label_color)\n",
        "    \n",
        "    sample_type_label.append(sample)\n",
        "\n",
        "# ax.set_yscale(\"log\")\n",
        "ax.set_xlabel(\"Fraction of total virus reads\", fontsize=fontsize, color=label_color)\n",
        "ax.set_ylabel(\"Animal\", fontsize=fontsize, color=label_color)\n",
        "\n",
        "# leg = ax.legend(fontsize=fontsize, loc='center left', bbox_to_anchor=(1, 0.5))\n",
        "leg = ax.legend(fontsize=fontsize-3, loc='upper center', bbox_to_anchor=(0.5, -0.05), ncol=7)\n",
        "for i, leg_txt in enumerate(leg.get_texts()):\n",
        "    leg_txt.set_color(\"white\")\n",
        "leg.get_frame().set_alpha(0.2)\n",
        "\n",
        "ax.set_yticks(x, sample_type_label, rotation=0, ha=\"right\")\n",
        "        \n",
        "ax.tick_params(axis=\"both\", labelsize=fontsize)\n",
        "ax.set_title(f\"Fraction of reads per virus species\", fontsize=fontsize+2, color=label_color)\n",
        "    \n",
        "ax.margins(y=0.01) \n",
        "\n",
        "# Adjust for black background\n",
        "ax.spines['bottom'].set_color('white')\n",
        "ax.spines['top'].set_color('white')\n",
        "ax.spines['left'].set_color('white')\n",
        "ax.spines['right'].set_color('white')\n",
        "ax.tick_params(axis='both', colors='white')\n",
        "\n",
        "# plt.gca().invert_yaxis()\n",
        "\n",
        "# plt.tight_layout()\n",
        "\n",
        "plt.savefig(\"figures/3.5_palmdb_barh_per_animal.png\", dpi=300, bbox_inches=\"tight\", transparent=True)\n",
        "\n",
        "fig.show()"
      ],
      "metadata": {
        "id": "eogXoitaPNVI"
      },
      "execution_count": null,
      "outputs": []
    },
    {
      "cell_type": "markdown",
      "source": [
        "# Create [Krona](https://github.com/marbl/Krona/wiki) plot \n",
        "This plot will be saved as html and can be opened in a browser."
      ],
      "metadata": {
        "id": "gQyDHROJPVxS"
      }
    },
    {
      "cell_type": "code",
      "source": [
        "# Install Krona from source\n",
        "!git clone https://github.com/marbl/Krona.git && cd Krona && ./install.pl"
      ],
      "metadata": {
        "id": "_RoF_yapQUWu"
      },
      "execution_count": null,
      "outputs": []
    },
    {
      "cell_type": "code",
      "source": [
        "master = pd.DataFrame()\n",
        "for idx, timepoint in enumerate(palmdb_adata.obs[\"dpi_clean\"].unique()):\n",
        "    for animal_id in palmdb_adata.obs[palmdb_adata.obs[\"dpi_clean\"] == timepoint][\"donor_animal\"].unique():\n",
        "        adata_temp = palmdb_adata[(palmdb_adata.obs[\"dpi_clean\"] == timepoint) & (palmdb_adata.obs[\"donor_animal\"] == animal_id), :]\n",
        "\n",
        "        # Add total number of counts (across all cells) for each virus ID to phylogeny data temp\n",
        "        virus_ids = adata_temp.var.index.values\n",
        "        total_counts = nd(adata_temp.X.sum(axis=0))\n",
        "        total_count_dict = {virus_ids[i]: total_counts[i] for i in range(len(virus_ids))}\n",
        "\n",
        "        phylogeny_data_temp = phylogeny_data.copy()\n",
        "        phylogeny_data_temp['total_count'] = phylogeny_data_temp['Label'].map(total_count_dict)\n",
        "\n",
        "        # Remove all viruses that were only detected in less than num_cells_threshold cells\n",
        "        phylogeny_data_temp = phylogeny_data_temp[phylogeny_data_temp[\"total_count\"] >= num_cells_threshold]\n",
        "\n",
        "        # Remove non-relevent columns and change order of columns  \n",
        "        phylogeny_data_temp = phylogeny_data_temp[[\"total_count\", \"phylum\", \"class\", \"order\", \"family\", \"genus\", \"species\", \"Label\"]]\n",
        "\n",
        "        # Replace dots with NaN\n",
        "        phylogeny_data_temp = phylogeny_data_temp.replace(\".\", np.nan)\n",
        "\n",
        "        # Add column with timepoint\n",
        "        phylogeny_data_temp[\"timepoint\"] = timepoint\n",
        "\n",
        "        # Add column with animal id\n",
        "        phylogeny_data_temp[\"animal_id\"] = animal_id\n",
        "\n",
        "        # Append to master dataframe\n",
        "        if idx == 0:\n",
        "            master = phylogeny_data_temp.copy()\n",
        "        else:\n",
        "            master = master.append(phylogeny_data_temp)\n",
        "\n",
        "# Save counts + taxnomomies data to txt file\n",
        "master.to_csv(f'krona.txt', sep ='\\t', header=None, index=False)\n",
        "\n",
        "# Generate Krona plot\n",
        "krona_out = \"figures/krona.html\"\n",
        "!$ktImportText krona.txt -o $krona_out -n \"Viral RNAs\""
      ],
      "metadata": {
        "id": "cNfWG2_yPTkO"
      },
      "execution_count": null,
      "outputs": []
    }
  ]
}