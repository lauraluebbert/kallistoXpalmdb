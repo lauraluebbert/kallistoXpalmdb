{
  "nbformat": 4,
  "nbformat_minor": 0,
  "metadata": {
    "colab": {
      "provenance": [],
      "gpuType": "T4",
      "include_colab_link": true
    },
    "kernelspec": {
      "name": "python3",
      "display_name": "Python 3"
    },
    "language_info": {
      "name": "python"
    },
    "gpuClass": "standard"
  },
  "cells": [
    {
      "cell_type": "markdown",
      "metadata": {
        "id": "view-in-github",
        "colab_type": "text"
      },
      "source": [
        "<a href=\"https://colab.research.google.com/github/lauraluebbert/kallistoXpalmdb/blob/main/kallistoXpalmDB_tutorial.ipynb\" target=\"_parent\"><img src=\"https://colab.research.google.com/assets/colab-badge.svg\" alt=\"Open In Colab\"/></a>"
      ]
    },
    {
      "cell_type": "markdown",
      "source": [
        "# kallisto X PalmDB tutorial\n",
        "\n",
        "This is a simple pre-release tutorial introducig the new `--aa` option of [kallisto](https://www.nature.com/articles/s41587-021-00870-2) to generate count matrices from scRNAseq data using an amino acid referece. Here, we will use this option in combination with the [PalmDB database](https://www.nature.com/articles/s41586-021-04332-2) to find viral sequences in [Rhesus macaques infected with Ebolavirus](https://pubmed.ncbi.nlm.nih.gov/33159858/)."
      ],
      "metadata": {
        "id": "zKAMqEdz4R3n"
      }
    },
    {
      "cell_type": "code",
      "source": [
        "import anndata\n",
        "import pandas as pd\n",
        "import numpy as np\n",
        "import matplotlib.pyplot as plt\n",
        "\n",
        "def nd(arr):\n",
        "    \"\"\"\n",
        "    Function to transform numpy matrix to nd array.\n",
        "    \"\"\"\n",
        "    return np.asarray(arr).reshape(-1)"
      ],
      "metadata": {
        "id": "VkA-4EjdI5ym"
      },
      "execution_count": 66,
      "outputs": []
    },
    {
      "cell_type": "markdown",
      "source": [
        "# Install software"
      ],
      "metadata": {
        "id": "5ddSnwmkAw6k"
      }
    },
    {
      "cell_type": "code",
      "execution_count": null,
      "metadata": {
        "id": "86UhjtGrT3xl"
      },
      "outputs": [],
      "source": [
        "# Install ffq (https://github.com/pachterlab/ffq) and gget (https://github.com/pachterlab/gget) for simplified data download\n",
        "!pip install -q gget ffq"
      ]
    },
    {
      "cell_type": "markdown",
      "source": [
        "Next, we will install the kallisto bustools wrapper [`kb-python`](https://github.com/pachterlab/kb_python) and compile kallisto from the development branch (after the official release, this will become just `pip install kb-python`):"
      ],
      "metadata": {
        "id": "Y9uFetKXIzSO"
      }
    },
    {
      "cell_type": "code",
      "source": [
        "# Install kb_python and kallisto from dev branch\n",
        "!pip install -q git+https://github.com/pachterlab/kb_python.git@dlist\n",
        "!git clone https://github.com/pachterlab/kallisto-D.git\n",
        "!mkdir kallisto-D/build && cd kallisto-D/build && cmake .. && make && make install"
      ],
      "metadata": {
        "colab": {
          "base_uri": "https://localhost:8080/"
        },
        "id": "_icuVIGtIMDQ",
        "outputId": "19cc3a16-1eb9-4006-edd3-eef6dc135244"
      },
      "execution_count": null,
      "outputs": [
        {
          "output_type": "stream",
          "name": "stdout",
          "text": [
            "  Preparing metadata (setup.py) ... \u001b[?25l\u001b[?25hdone\n",
            "fatal: destination path 'kallisto-D' already exists and is not an empty directory.\n",
            "mkdir: cannot create directory ‘kallisto-D/build’: File exists\n"
          ]
        }
      ]
    },
    {
      "cell_type": "markdown",
      "source": [
        "# Download reference and scRNAseq data"
      ],
      "metadata": {
        "id": "9diQpPTDA2BP"
      }
    },
    {
      "cell_type": "code",
      "source": [
        "# Download host transcriptome to mask host sequences in the virus index\n",
        "!gget ref -d -w dna macaca_mulatta"
      ],
      "metadata": {
        "id": "VtqWrGi6UDF3"
      },
      "execution_count": null,
      "outputs": []
    },
    {
      "cell_type": "code",
      "source": [
        "# Get download links for scRNAseq data using ffq\n",
        "!ffq --ftp SRR12698503"
      ],
      "metadata": {
        "colab": {
          "base_uri": "https://localhost:8080/"
        },
        "id": "_gx8VcSrUH_N",
        "outputId": "6c9cc6cc-78df-4715-8370-598bb89d7b79"
      },
      "execution_count": 70,
      "outputs": [
        {
          "output_type": "stream",
          "name": "stdout",
          "text": [
            "[2023-05-11 10:14:16,788]    INFO Parsing run SRR12698503\n",
            "[\n",
            "    {\n",
            "        \"accession\": \"SRR12698503\",\n",
            "        \"filename\": \"SRR12698503_1.fastq.gz\",\n",
            "        \"filetype\": \"fastq\",\n",
            "        \"filesize\": 4627785755,\n",
            "        \"filenumber\": 1,\n",
            "        \"md5\": \"5d5b86428390f5954f80db00670cbfd8\",\n",
            "        \"urltype\": \"ftp\",\n",
            "        \"url\": \"ftp://ftp.sra.ebi.ac.uk/vol1/fastq/SRR126/003/SRR12698503/SRR12698503_1.fastq.gz\"\n",
            "    },\n",
            "    {\n",
            "        \"accession\": \"SRR12698503\",\n",
            "        \"filename\": \"SRR12698503_2.fastq.gz\",\n",
            "        \"filetype\": \"fastq\",\n",
            "        \"filesize\": 12900068281,\n",
            "        \"filenumber\": 2,\n",
            "        \"md5\": \"a64337dd64476c7f18e3a4658448e919\",\n",
            "        \"urltype\": \"ftp\",\n",
            "        \"url\": \"ftp://ftp.sra.ebi.ac.uk/vol1/fastq/SRR126/003/SRR12698503/SRR12698503_2.fastq.gz\"\n",
            "    }\n",
            "]\n"
          ]
        }
      ]
    },
    {
      "cell_type": "code",
      "source": [
        "# Download scRNAseq data\n",
        "!curl -O ftp://ftp.sra.ebi.ac.uk/vol1/fastq/SRR126/003/SRR12698503/SRR12698503_1.fastq.gz\n",
        "!curl -O ftp://ftp.sra.ebi.ac.uk/vol1/fastq/SRR126/003/SRR12698503/SRR12698503_2.fastq.gz"
      ],
      "metadata": {
        "colab": {
          "base_uri": "https://localhost:8080/"
        },
        "id": "_nOGn8IrAMB8",
        "outputId": "cf6a95c5-4904-4d0a-c04e-0fa0d344c75f"
      },
      "execution_count": 71,
      "outputs": [
        {
          "output_type": "stream",
          "name": "stdout",
          "text": [
            "  % Total    % Received % Xferd  Average Speed   Time    Time     Time  Current\n",
            "                                 Dload  Upload   Total   Spent    Left  Speed\n",
            "100 4413M  100 4413M    0     0  13.2M      0  0:05:32  0:05:32 --:--:-- 15.2M\n",
            "  % Total    % Received % Xferd  Average Speed   Time    Time     Time  Current\n",
            "                                 Dload  Upload   Total   Spent    Left  Speed\n",
            "100 12.0G  100 12.0G    0     0  17.5M      0  0:11:40  0:11:40 --:--:-- 22.1M\n"
          ]
        }
      ]
    },
    {
      "cell_type": "code",
      "source": [
        "# Download fasta (and annotations) containing PalmDB amino acid reference sequences\n",
        "!curl -O https://raw.githubusercontent.com/lauraluebbert/kallistoXpalmdb/main/palmdb_clustered.fasta\n",
        "!curl -O https://raw.githubusercontent.com/lauraluebbert/kallistoXpalmdb/main/palmdb_clustered.gtf\n",
        "\n",
        "# Download virus ID to taxonomy mapping\n",
        "!curl -O https://raw.githubusercontent.com/lauraluebbert/kallistoXpalmdb/main/palmID_to_taxonomy_mapping.tsv"
      ],
      "metadata": {
        "id": "5iLX5dsw4-TU"
      },
      "execution_count": null,
      "outputs": []
    },
    {
      "cell_type": "markdown",
      "source": [
        "# Build virus reference index from PalmDB amino acid sequences\n",
        "You can find the kallisto bustools manual and tutorials [here](https://www.kallistobus.tools/).\n",
        "\n",
        "The `--aa` argument tells kb that this is an amino acid reference.  \n",
        "\n",
        "The `--d-list` argument is the path to the **host** transcriptome. These sequences will be masked in the index.\n",
        "\n",
        "Since we installed kallisto from source, we have to tell kb where to find the kallisto binary using the `--kallisto` argument. This will not be neccesary anymore after the official release.\n",
        "\n",
        "(Note: The `--d-list` and `--aa` arguments currently significantly slow down both the `kb ref` and the `kb count` commands. However, we already have some ideas to speed things up before the official release.)"
      ],
      "metadata": {
        "id": "gc_Cfc4r33EG"
      }
    },
    {
      "cell_type": "code",
      "source": [
        "%%time\n",
        "!kb ref \\\n",
        "  --aa \\\n",
        "  --d-list Macaca_mulatta.Mmul_10.dna.toplevel.fa.gz \\\n",
        "  -t 2 \\\n",
        "  -i index.idx \\\n",
        "  -g t2g.txt \\\n",
        "  -f1 transcriptome.fa \\\n",
        "  --kallisto /usr/local/bin/kallisto \\\n",
        "  palmdb_clustered.fasta \\\n",
        "  palmdb_clustered.gtf"
      ],
      "metadata": {
        "colab": {
          "base_uri": "https://localhost:8080/"
        },
        "id": "WzvFDiRX-NE6",
        "outputId": "673ceb53-90f7-4568-a024-bbce58cfcec6"
      },
      "execution_count": null,
      "outputs": [
        {
          "output_type": "stream",
          "name": "stdout",
          "text": [
            "[2023-05-10 23:03:25,551]    INFO [ref] Skipping cDNA FASTA generation because transcriptome.fa already exists. Use --overwrite flag to overwrite\n",
            "[2023-05-10 23:03:25,551]    INFO [ref] Skipping kallisto index because index.idx already exists. Use the --overwrite flag to overwrite.\n",
            "^C\n",
            "CPU times: user 64 ms, sys: 14.1 ms, total: 78.1 ms\n",
            "Wall time: 7.55 s\n"
          ]
        }
      ]
    },
    {
      "cell_type": "markdown",
      "source": [
        "# Align sequencing data and generate virus count matrix\n",
        "The `-x` techology tells kb where to find the barcode and UMI. Here, I added the x string for Seqwell. To view named technologies for `-x`, run `!kb --list`."
      ],
      "metadata": {
        "id": "XhaG2fdy35Jh"
      }
    },
    {
      "cell_type": "code",
      "source": [
        "!kb --list"
      ],
      "metadata": {
        "colab": {
          "base_uri": "https://localhost:8080/"
        },
        "id": "nM_4_4e5U3li",
        "outputId": "4d6e2374-49a7-4ff1-c8dc-dd43d8789b8f"
      },
      "execution_count": 72,
      "outputs": [
        {
          "output_type": "stream",
          "name": "stdout",
          "text": [
            "List of supported single-cell technologies\n",
            "\n",
            "Positions syntax: `input file index, start position, end position`\n",
            "When start & end positions are None, refers to the entire file\n",
            "Custom technologies may be defined by providing a kallisto-supported technology string\n",
            "(see https://pachterlab.github.io/kallisto/manual)\n",
            "\n",
            "name            description                            whitelist    barcode                    umi        cDNA                       \n",
            "------------    -----------------------------------    ---------    -----------------------    -------    -----------------------    \n",
            "10XV1           10x version 1                          yes          0,0,14                     1,0,10     2,None,None                \n",
            "10XV2           10x version 2                          yes          0,0,16                     0,16,26    1,None,None                \n",
            "10XV3           10x version 3                          yes          0,0,16                     0,16,28    1,None,None                \n",
            "10XV3_ULTIMA    10x version 3 sequenced with Ultima    yes          0,22,38                    0,38,50    0,62,None                  \n",
            "BDWTA           BD Rhapsody                            yes          0,0,9 0,21,30 0,43,52      0,52,60    1,None,None                \n",
            "BULK            Bulk (single or paired)                                                                   0,None,None 1,None,None    \n",
            "CELSEQ          CEL-Seq                                             0,0,8                      0,8,12     1,None,None                \n",
            "CELSEQ2         CEL-SEQ version 2                                   0,6,12                     0,0,6      1,None,None                \n",
            "DROPSEQ         DropSeq                                             0,0,12                     0,12,20    1,None,None                \n",
            "INDROPSV1       inDrops version 1                                   0,0,11 0,30,38             0,42,48    1,None,None                \n",
            "INDROPSV2       inDrops version 2                                   1,0,11 1,30,38             1,42,48    0,None,None                \n",
            "INDROPSV3       inDrops version 3                      yes          0,0,8 1,0,8                1,8,14     2,None,None                \n",
            "SCRUBSEQ        SCRB-Seq                                            0,0,6                      0,6,16     1,None,None                \n",
            "SMARTSEQ2       Smart-seq2  (single or paired)                                                            0,None,None 1,None,None    \n",
            "SMARTSEQ3       Smart-seq3                                                                     0,11,19    0,11,None 1,None,None      \n",
            "SPLIT-SEQ       SPLiT-seq                                           1,10,18 1,48,56 1,78,86    1,0,10     0,None,None                \n",
            "SURECELL        SureCell for ddSEQ                                  0,0,6 0,21,27 0,42,48      0,51,59    1,None,None                \n",
            "Visium          10x Visium                             yes          0,0,16                     0,16,28    1,None,None                \n"
          ]
        }
      ]
    },
    {
      "cell_type": "code",
      "source": [
        "%%time\n",
        "!kb count \\\n",
        "  --verbose \\\n",
        "  --aa \\\n",
        "  --h5ad \\\n",
        "  -t 2 \\\n",
        "  -i index.idx \\\n",
        "  -g t2g.txt \\\n",
        "  -x 0,0,12:0,12,20:1,0,0 \\\n",
        "  -o kb_results \\\n",
        "  --kallisto /usr/local/bin/kallisto \\\n",
        "  SRR12698503_1.fastq.gz \\\n",
        "  SRR12698503_2.fastq.gz"
      ],
      "metadata": {
        "colab": {
          "base_uri": "https://localhost:8080/"
        },
        "id": "fYgxpSf2Rc0-",
        "outputId": "e4547e92-ecfe-4134-cd8c-7e62b4703d73"
      },
      "execution_count": null,
      "outputs": [
        {
          "output_type": "stream",
          "name": "stdout",
          "text": [
            "[2023-05-11 10:32:12,992]   DEBUG [main] Printing verbose output\n",
            "[2023-05-11 10:32:15,198]   DEBUG [main] kallisto binary located at /usr/local/bin/kallisto\n",
            "[2023-05-11 10:32:15,198]   DEBUG [main] bustools binary located at /usr/local/lib/python3.10/dist-packages/kb_python/bins/linux/bustools/bustools\n",
            "[2023-05-11 10:32:15,199]   DEBUG [main] Creating `kb_results/tmp` directory\n",
            "[2023-05-11 10:32:15,199]   DEBUG [main] Namespace(list=False, command='count', tmp=None, keep_tmp=False, verbose=True, i='index.idx', g='t2g.txt', x='0,0,12:0,12,20:1,0,0', o='kb_results', w=None, r=None, t=2, m='2G', strand=None, inleaved=False, genomebam=False, aa=True, gtf=None, chromosomes=None, workflow='standard', em=False, mm=False, tcc=False, filter=None, filter_threshold=None, c1=None, c2=None, overwrite=False, dry_run=False, batch_barcodes=False, loom=False, h5ad=True, loom_names='barcode,target_name', sum='none', cellranger=False, gene_names=False, report=False, no_inspect=False, kallisto='/usr/local/bin/kallisto', bustools='/usr/local/lib/python3.10/dist-packages/kb_python/bins/linux/bustools/bustools', no_validate=False, parity=None, fragment_l=None, fragment_s=None, fastqs=['SRR12698503_1.fastq.gz', 'SRR12698503_2.fastq.gz'])\n",
            "[2023-05-11 10:32:18,212]    INFO [count] Using index index.idx to generate BUS file to kb_results from\n",
            "[2023-05-11 10:32:18,212]    INFO [count]         SRR12698503_1.fastq.gz\n",
            "[2023-05-11 10:32:18,212]    INFO [count]         SRR12698503_2.fastq.gz\n",
            "[2023-05-11 10:32:18,212]   DEBUG [count] kallisto bus -i index.idx -o kb_results -x 0,0,12:0,12,20:1,0,0 -t 2 --aa SRR12698503_1.fastq.gz SRR12698503_2.fastq.gz\n",
            "[2023-05-11 10:32:18,318]   DEBUG [count] \n",
            "[2023-05-11 10:32:18,318]   DEBUG [count] [bus] Note: Strand option was not specified; setting it to --unstranded for specified technology\n",
            "[2023-05-11 10:32:18,519]   DEBUG [count] [index] k-mer length: 31\n",
            "[2023-05-11 10:32:18,619]   DEBUG [count] [index] number of targets: 6,518\n",
            "[2023-05-11 10:32:18,619]   DEBUG [count] [index] number of k-mers: 2,075,253\n",
            "[2023-05-11 10:32:18,619]   DEBUG [count] [index] number of distinguishing flanking k-mers: 212\n",
            "[2023-05-11 10:32:18,619]   DEBUG [count] [quant] will process sample 1: SRR12698503_1.fastq.gz\n",
            "[2023-05-11 10:32:18,619]   DEBUG [count] SRR12698503_2.fastq.gz\n",
            "[2023-05-11 10:34:29,762]   DEBUG [count] [quant] finding pseudoalignments for the reads ...\n",
            "[2023-05-11 10:37:00,528]   DEBUG [count] [progress] 1M reads processed (0.4% mapped)\n",
            "[2023-05-11 10:39:09,779]   DEBUG [count] [progress] 2M reads processed (0.4% mapped)\n",
            "[2023-05-11 10:41:21,162]   DEBUG [count] [progress] 3M reads processed (0.4% mapped)\n",
            "[2023-05-11 10:43:55,479]   DEBUG [count] [progress] 4M reads processed (0.4% mapped)\n",
            "[2023-05-11 10:46:30,599]   DEBUG [count] [progress] 5M reads processed (0.4% mapped)\n"
          ]
        }
      ]
    },
    {
      "cell_type": "markdown",
      "source": [
        "Add sample metadata:"
      ],
      "metadata": {
        "id": "NzLKmEhVVzLh"
      }
    },
    {
      "cell_type": "code",
      "source": [
        "metadata = pd.read_csv(\"SraRunTable.txt\", sep=\",\")\n",
        "\n",
        "# Only keep relevent data\n",
        "metadata[\"mdck_spike_in\"] = metadata[\"mdck_spike_in\"].fillna(False).values\n",
        "metadata = metadata[[\"Run\", \"donor_animal\", \"Experiment\", \"mdck_spike_in\", \"hours_post_innoculation\", \"day_post_infection\"]]\n",
        "metadata.head()"
      ],
      "metadata": {
        "id": "rPZAK0yIVviQ"
      },
      "execution_count": null,
      "outputs": []
    },
    {
      "cell_type": "code",
      "source": [
        "adata.obs['barcode'] = adata.obs.index\n",
        "\n",
        "adata.obs = (\n",
        "        adata\n",
        "        .obs.merge(metadata, left_on=\"sample\", right_on=\"Run\", how=\"left\")\n",
        "        .set_index(\"barcode\")\n",
        "    )\n",
        "\n",
        "adata.obs"
      ],
      "metadata": {
        "id": "Y00adpCbWZkR"
      },
      "execution_count": null,
      "outputs": []
    },
    {
      "cell_type": "code",
      "source": [
        "# Create clean timepoint column\n",
        "# Join day_post_infection and hours_post_innoculation columns\n",
        "adata.obs[\"dpi\"] = adata.obs[\"day_post_infection\"].fillna(adata.obs[\"hours_post_innoculation\"]).astype(int)\n",
        "\n",
        "# Add h/d accession to denote hours/days \n",
        "adata.obs[\"dpi_accessions\"] = np.where(adata.obs[\"hours_post_innoculation\"].isna(), \"d\", \"h\")\n",
        "adata.obs[\"dpi_clean\"] = adata.obs[\"dpi\"].astype(str) + adata.obs[\"dpi_accessions\"].astype(str)"
      ],
      "metadata": {
        "id": "pDY_-j0PXLKp"
      },
      "execution_count": null,
      "outputs": []
    },
    {
      "cell_type": "markdown",
      "source": [
        "# Visualize virus counts "
      ],
      "metadata": {
        "id": "2GYJbkkV9piY"
      }
    },
    {
      "cell_type": "code",
      "source": [
        "# Load virus ID to taxonomy mapping\n",
        "tax_df = pd.read_csv(\"palmID_to_taxonomy_mapping.tsv\", sep='\\t')\n",
        "tax_df.head()"
      ],
      "metadata": {
        "colab": {
          "base_uri": "https://localhost:8080/",
          "height": 206
        },
        "id": "KNKKUyVv9y0m",
        "outputId": "b01b89ac-8fb0-445d-dcd8-634777a7e298"
      },
      "execution_count": 58,
      "outputs": [
        {
          "output_type": "execute_result",
          "data": {
            "text/plain": [
              "     Label         phylum             class         order            family  \\\n",
              "0  u100164              .                 .             .                 .   \n",
              "1   u10019   Pisuviricota                 .             .                 .   \n",
              "2  u100402   Pisuviricota  Duplopiviricetes  Durnavirales  Picobirnaviridae   \n",
              "3  u100562              .                 .             .                 .   \n",
              "4  u100587  Lenarviricota  Allassoviricetes   Levivirales                 .   \n",
              "\n",
              "            genus             species  \n",
              "0               .                   .  \n",
              "1               .                   .  \n",
              "2  Picobirnavirus  Picobirnavirus sp.  \n",
              "3               .                   .  \n",
              "4               .                   .  "
            ],
            "text/html": [
              "\n",
              "  <div id=\"df-b607d8df-35ff-4d51-a78d-9f792e15233e\">\n",
              "    <div class=\"colab-df-container\">\n",
              "      <div>\n",
              "<style scoped>\n",
              "    .dataframe tbody tr th:only-of-type {\n",
              "        vertical-align: middle;\n",
              "    }\n",
              "\n",
              "    .dataframe tbody tr th {\n",
              "        vertical-align: top;\n",
              "    }\n",
              "\n",
              "    .dataframe thead th {\n",
              "        text-align: right;\n",
              "    }\n",
              "</style>\n",
              "<table border=\"1\" class=\"dataframe\">\n",
              "  <thead>\n",
              "    <tr style=\"text-align: right;\">\n",
              "      <th></th>\n",
              "      <th>Label</th>\n",
              "      <th>phylum</th>\n",
              "      <th>class</th>\n",
              "      <th>order</th>\n",
              "      <th>family</th>\n",
              "      <th>genus</th>\n",
              "      <th>species</th>\n",
              "    </tr>\n",
              "  </thead>\n",
              "  <tbody>\n",
              "    <tr>\n",
              "      <th>0</th>\n",
              "      <td>u100164</td>\n",
              "      <td>.</td>\n",
              "      <td>.</td>\n",
              "      <td>.</td>\n",
              "      <td>.</td>\n",
              "      <td>.</td>\n",
              "      <td>.</td>\n",
              "    </tr>\n",
              "    <tr>\n",
              "      <th>1</th>\n",
              "      <td>u10019</td>\n",
              "      <td>Pisuviricota</td>\n",
              "      <td>.</td>\n",
              "      <td>.</td>\n",
              "      <td>.</td>\n",
              "      <td>.</td>\n",
              "      <td>.</td>\n",
              "    </tr>\n",
              "    <tr>\n",
              "      <th>2</th>\n",
              "      <td>u100402</td>\n",
              "      <td>Pisuviricota</td>\n",
              "      <td>Duplopiviricetes</td>\n",
              "      <td>Durnavirales</td>\n",
              "      <td>Picobirnaviridae</td>\n",
              "      <td>Picobirnavirus</td>\n",
              "      <td>Picobirnavirus sp.</td>\n",
              "    </tr>\n",
              "    <tr>\n",
              "      <th>3</th>\n",
              "      <td>u100562</td>\n",
              "      <td>.</td>\n",
              "      <td>.</td>\n",
              "      <td>.</td>\n",
              "      <td>.</td>\n",
              "      <td>.</td>\n",
              "      <td>.</td>\n",
              "    </tr>\n",
              "    <tr>\n",
              "      <th>4</th>\n",
              "      <td>u100587</td>\n",
              "      <td>Lenarviricota</td>\n",
              "      <td>Allassoviricetes</td>\n",
              "      <td>Levivirales</td>\n",
              "      <td>.</td>\n",
              "      <td>.</td>\n",
              "      <td>.</td>\n",
              "    </tr>\n",
              "  </tbody>\n",
              "</table>\n",
              "</div>\n",
              "      <button class=\"colab-df-convert\" onclick=\"convertToInteractive('df-b607d8df-35ff-4d51-a78d-9f792e15233e')\"\n",
              "              title=\"Convert this dataframe to an interactive table.\"\n",
              "              style=\"display:none;\">\n",
              "        \n",
              "  <svg xmlns=\"http://www.w3.org/2000/svg\" height=\"24px\"viewBox=\"0 0 24 24\"\n",
              "       width=\"24px\">\n",
              "    <path d=\"M0 0h24v24H0V0z\" fill=\"none\"/>\n",
              "    <path d=\"M18.56 5.44l.94 2.06.94-2.06 2.06-.94-2.06-.94-.94-2.06-.94 2.06-2.06.94zm-11 1L8.5 8.5l.94-2.06 2.06-.94-2.06-.94L8.5 2.5l-.94 2.06-2.06.94zm10 10l.94 2.06.94-2.06 2.06-.94-2.06-.94-.94-2.06-.94 2.06-2.06.94z\"/><path d=\"M17.41 7.96l-1.37-1.37c-.4-.4-.92-.59-1.43-.59-.52 0-1.04.2-1.43.59L10.3 9.45l-7.72 7.72c-.78.78-.78 2.05 0 2.83L4 21.41c.39.39.9.59 1.41.59.51 0 1.02-.2 1.41-.59l7.78-7.78 2.81-2.81c.8-.78.8-2.07 0-2.86zM5.41 20L4 18.59l7.72-7.72 1.47 1.35L5.41 20z\"/>\n",
              "  </svg>\n",
              "      </button>\n",
              "      \n",
              "  <style>\n",
              "    .colab-df-container {\n",
              "      display:flex;\n",
              "      flex-wrap:wrap;\n",
              "      gap: 12px;\n",
              "    }\n",
              "\n",
              "    .colab-df-convert {\n",
              "      background-color: #E8F0FE;\n",
              "      border: none;\n",
              "      border-radius: 50%;\n",
              "      cursor: pointer;\n",
              "      display: none;\n",
              "      fill: #1967D2;\n",
              "      height: 32px;\n",
              "      padding: 0 0 0 0;\n",
              "      width: 32px;\n",
              "    }\n",
              "\n",
              "    .colab-df-convert:hover {\n",
              "      background-color: #E2EBFA;\n",
              "      box-shadow: 0px 1px 2px rgba(60, 64, 67, 0.3), 0px 1px 3px 1px rgba(60, 64, 67, 0.15);\n",
              "      fill: #174EA6;\n",
              "    }\n",
              "\n",
              "    [theme=dark] .colab-df-convert {\n",
              "      background-color: #3B4455;\n",
              "      fill: #D2E3FC;\n",
              "    }\n",
              "\n",
              "    [theme=dark] .colab-df-convert:hover {\n",
              "      background-color: #434B5C;\n",
              "      box-shadow: 0px 1px 3px 1px rgba(0, 0, 0, 0.15);\n",
              "      filter: drop-shadow(0px 1px 2px rgba(0, 0, 0, 0.3));\n",
              "      fill: #FFFFFF;\n",
              "    }\n",
              "  </style>\n",
              "\n",
              "      <script>\n",
              "        const buttonEl =\n",
              "          document.querySelector('#df-b607d8df-35ff-4d51-a78d-9f792e15233e button.colab-df-convert');\n",
              "        buttonEl.style.display =\n",
              "          google.colab.kernel.accessAllowed ? 'block' : 'none';\n",
              "\n",
              "        async function convertToInteractive(key) {\n",
              "          const element = document.querySelector('#df-b607d8df-35ff-4d51-a78d-9f792e15233e');\n",
              "          const dataTable =\n",
              "            await google.colab.kernel.invokeFunction('convertToInteractive',\n",
              "                                                     [key], {});\n",
              "          if (!dataTable) return;\n",
              "\n",
              "          const docLinkHtml = 'Like what you see? Visit the ' +\n",
              "            '<a target=\"_blank\" href=https://colab.research.google.com/notebooks/data_table.ipynb>data table notebook</a>'\n",
              "            + ' to learn more about interactive tables.';\n",
              "          element.innerHTML = '';\n",
              "          dataTable['output_type'] = 'display_data';\n",
              "          await google.colab.output.renderOutput(dataTable, element);\n",
              "          const docLink = document.createElement('div');\n",
              "          docLink.innerHTML = docLinkHtml;\n",
              "          element.appendChild(docLink);\n",
              "        }\n",
              "      </script>\n",
              "    </div>\n",
              "  </div>\n",
              "  "
            ]
          },
          "metadata": {},
          "execution_count": 58
        }
      ]
    },
    {
      "cell_type": "code",
      "source": [
        "# Show Coronavirus species\n",
        "tax_df[tax_df[\"species\"].str.contains(\"Ebolavirus\")]"
      ],
      "metadata": {
        "id": "zk4piHyOIC2F"
      },
      "execution_count": null,
      "outputs": []
    },
    {
      "cell_type": "code",
      "source": [
        "# Print total target virus counts across all samples\n",
        "target_ids = phylogeny_data[phylogeny_data[\"species\"].str.contains(\"Ebolavirus\")][\"Label\"].values\n",
        "for id_ in target_ids:\n",
        "    counts = adata.X[:, adata.var.index == id_].sum()\n",
        "    if counts > 0:\n",
        "        print(id_, \": \", counts)"
      ],
      "metadata": {
        "id": "cOVUb4MURGhv"
      },
      "execution_count": null,
      "outputs": []
    },
    {
      "cell_type": "code",
      "source": [
        "# Load AnnData object retured by kb-python containing virus counts\n",
        "adata = anndata.read(\"kb_results/counts_unfiltered/adata.h5ad\")\n",
        "adata"
      ],
      "metadata": {
        "id": "zwkc6msURPT8"
      },
      "execution_count": null,
      "outputs": []
    },
    {
      "cell_type": "code",
      "source": [
        "fig, ax = plt.subplots(figsize=(10, 5))\n",
        "fontsize = 14\n",
        "\n",
        "samples = adata.obs[\"dpi_clean\"]\n",
        "labels = samples\n",
        "virus_id = \"u55137\"\n",
        "\n",
        "cellnum = []\n",
        "counts = []\n",
        "for sample in samples:\n",
        "    count = adata.X[adata.obs[\"dpi_clean\"] == sample, adata.var.index == virus_id].sum()\n",
        "    counts.append(count)\n",
        "    if count > 0:\n",
        "        cellnum.append(len(nd(adata.X[adata.obs[\"dpi_clean\"] == sample, adata.var.index == virus_id])))\n",
        "    else:\n",
        "        cellnum.append(0)\n",
        "\n",
        "fontsize = 14\n",
        "width = 0.4\n",
        "x = np.arange(len(labels))\n",
        "\n",
        "ax.bar(x-width/2, counts, width=width, label=f\"UMI counts\", color=\"#d42526\", edgecolor=\"black\")\n",
        "ax.bar(x+width/2, cellnum, width=width, label=f\"EBOV+ cells\", color=\"#d42526\", alpha=0.5, edgecolor=\"black\")\n",
        "\n",
        "ax.set_yscale(\"log\")\n",
        "ax.set_ylabel(\"Total count\", fontsize=fontsize)\n",
        "ax.set_xlabel(\"Timepoint\", fontsize=fontsize)\n",
        "ax.legend(loc=\"upper left\", fontsize=fontsize)\n",
        "\n",
        "ax.set_xticks(x, samples, rotation=0, ha=\"center\")\n",
        "\n",
        "ax.tick_params(axis=\"both\", labelsize=fontsize)\n",
        "ax.set_title(f\"Zaire Ebolavirus ({virus_id}) RdRP RNA molecule and cell counts\", fontsize=fontsize+2)\n",
        "\n",
        "ax.grid(True, which=\"both\", color=\"lightgray\")\n",
        "ax.set_axisbelow(True)\n",
        "\n",
        "fig.show()"
      ],
      "metadata": {
        "id": "W8HiPFQFdDfs"
      },
      "execution_count": null,
      "outputs": []
    },
    {
      "cell_type": "markdown",
      "source": [
        "Define virus filtering thresholds for bar and Krona plots:"
      ],
      "metadata": {
        "id": "KK45n2eKRqU8"
      }
    },
    {
      "cell_type": "code",
      "source": [
        "# Minimum count of virus in at least one cell\n",
        "count_threshold = 2\n",
        "# Minimum number of cells the virus was seen in\n",
        "num_cells_threshold = 100"
      ],
      "metadata": {
        "id": "LK7Ny_V0PfYz"
      },
      "execution_count": 68,
      "outputs": []
    },
    {
      "cell_type": "code",
      "source": [
        "samples = []\n",
        "\n",
        "# Get counts for each virus per sample\n",
        "vir_fractions_df = pd.DataFrame()\n",
        "\n",
        "for idx, virus_id in enumerate(adata.var.index):\n",
        "    if adata.X[:, adata.var.index == virus_id].max() >= count_threshold and len(nd(adata.X[:, adata.var.index == virus_id].todense())) >= num_cells_threshold:\n",
        "        virus_counts = []\n",
        "        \n",
        "        for timepoint in timepoints:\n",
        "            for animal_id in adata.obs[adata.obs[\"dpi_clean\"] == timepoint][\"donor_animal\"].unique():\n",
        "                virus_counts.append(adata.X[(adata.obs[\"donor_animal\"] == animal_id) & (adata.obs[\"dpi_clean\"] == timepoint), adata.var.index == virus_id].sum())\n",
        "                \n",
        "                if idx == 0:\n",
        "                    samples.append(timepoint + \"_\" + animal_id)\n",
        "\n",
        "        utax_label = \"_\".join(phylogeny_data[phylogeny_data[\"Label\"] == virus_id].values[0]).replace(\"_.\", \"\")\n",
        "        vir_fractions_df[utax_label] = virus_counts\n",
        "\n",
        "vir_fractions_df[\"sample\"] = samples\n",
        "\n",
        "# De-fragment dataframe\n",
        "vir_fractions_df = vir_fractions_df.copy()\n",
        "\n",
        "# Set sample as index\n",
        "vir_fractions_df = vir_fractions_df.set_index(\"sample\")\n",
        "\n",
        "# Get total virus reads per sample\n",
        "vir_fractions_df[\"sample_total\"] = vir_fractions_df.sum(axis = 1)\n",
        "\n",
        "# Get fractions for each virus\n",
        "for virus in vir_fractions_df.columns[:-1]:\n",
        "    vir_fractions_df[f\"{virus}_fraction\"] = vir_fractions_df[virus] / vir_fractions_df[\"sample_total\"]\n",
        "    \n",
        "# De-fragment dataframe\n",
        "vir_fractions_df = vir_fractions_df.copy()\n",
        "\n",
        "# Sort by maximum value accross all samples\n",
        "vir_fractions_df = vir_fractions_df[vir_fractions_df.max().sort_values(ascending=False).index]\n",
        "\n",
        "vir_fractions_df.head()"
      ],
      "metadata": {
        "id": "c7M7ZUHdO5j8"
      },
      "execution_count": null,
      "outputs": []
    },
    {
      "cell_type": "code",
      "source": [
        "fig, ax = plt.subplots(figsize=(20, 10))\n",
        "fontsize = 14\n",
        "width = 0.75\n",
        "\n",
        "samples = vir_fractions_df.index.values\n",
        "x = np.arange(len(samples))\n",
        "bottom = np.zeros(len(samples))\n",
        "\n",
        "NUM_COLORS = 20\n",
        "color_idx = 0\n",
        "second_hatch_round = False\n",
        "third_hatch_round = False\n",
        "forth_hatch_round = False\n",
        "hatch=\"\"\n",
        "mpl.rcParams['hatch.linewidth'] = 0.5\n",
        "legend_counter = 0\n",
        "\n",
        "for virus_column in vir_fractions_df.columns:\n",
        "    if \"_fraction\" in virus_column:\n",
        "        label_temp = virus_column.split(\"_fraction\")[0]\n",
        "        # Split long labels after n characters\n",
        "        n = 79\n",
        "        label = (\"\\n\".join(label_temp[i:i+n] for i in range(0, len(label_temp), n))) if len(label_temp) > n else label_temp\n",
        "\n",
        "        # Only show labels for first n viruses (else legend will be too long / break plot)\n",
        "        if legend_counter <= 47:\n",
        "            ax.barh(x, vir_fractions_df[virus_column].values, width, label=label, left=bottom, color=plt.cm.tab20(color_idx), hatch=hatch)\n",
        "            legend_counter += 1\n",
        "        else:\n",
        "            ax.barh(x, vir_fractions_df[virus_column].values, width, left=bottom, color=plt.cm.tab20(color_idx), hatch=hatch)\n",
        "        \n",
        "        bottom += vir_fractions_df[virus_column].values\n",
        "\n",
        "        # Change hatch every 20 viruses\n",
        "        if color_idx == NUM_COLORS-1 and not second_hatch_round and not third_hatch_round and not forth_hatch_round:\n",
        "            hatch = \"/\"\n",
        "            second_hatch_round = True\n",
        "            color_idx = 0\n",
        "            continue\n",
        "        elif color_idx == NUM_COLORS-1 and second_hatch_round:\n",
        "            hatch = \"\\\\\"\n",
        "            color_idx = 0\n",
        "            second_hatch_round = False\n",
        "            third_hatch_round = True\n",
        "            continue\n",
        "        elif color_idx == NUM_COLORS-1 and third_hatch_round:\n",
        "            hatch = \"o\"\n",
        "            color_idx = 0\n",
        "            third_hatch_round = False\n",
        "            forth_hatch_round = True\n",
        "            continue\n",
        "        elif color_idx == NUM_COLORS-1 and forth_hatch_round:\n",
        "            hatch = \"+\"\n",
        "            color_idx = 0\n",
        "            continue\n",
        "        else:\n",
        "            color_idx += 1\n",
        "\n",
        "# Add number of total virus counts to plot and generate xtick labels\n",
        "ax.set_xlim(0, 1.08)\n",
        "sample_type_label = []\n",
        "x_height  = 1.005\n",
        "for i, sample in enumerate(samples):\n",
        "    total_count = \"{:,}\".format(vir_fractions_df[vir_fractions_df.index == sample][\"sample_total\"].values[0].astype(int))  \n",
        "    ax.annotate(total_count, (x_height, i), fontsize=fontsize-1, ha=\"left\", va=\"center\")\n",
        "    \n",
        "    sample_type_label.append(sample)\n",
        "\n",
        "# ax.set_yscale(\"log\")\n",
        "ax.set_xlabel(\"Fraction of total virus reads\", fontsize=fontsize)\n",
        "ax.set_ylabel(\"Animal\", fontsize=fontsize)\n",
        "\n",
        "# leg = ax.legend(fontsize=fontsize, loc='center left', bbox_to_anchor=(1, 0.5))\n",
        "leg = ax.legend(fontsize=fontsize-3, loc='upper center', bbox_to_anchor=(0.5, -0.05), ncol=7)\n",
        "for i, leg_txt in enumerate(leg.get_texts()):\n",
        "    leg_txt.set_color(\"white\")\n",
        "leg.get_frame().set_alpha(0.2)\n",
        "\n",
        "ax.set_yticks(x, sample_type_label, rotation=0, ha=\"right\")\n",
        "        \n",
        "ax.tick_params(axis=\"both\", labelsize=fontsize)\n",
        "ax.set_title(f\"Fraction of reads per virus species\", fontsize=fontsize+2)\n",
        "    \n",
        "ax.margins(y=0.01) \n",
        "\n",
        "fig.show()"
      ],
      "metadata": {
        "id": "eogXoitaPNVI"
      },
      "execution_count": null,
      "outputs": []
    },
    {
      "cell_type": "markdown",
      "source": [
        "# Create [Krona](https://github.com/marbl/Krona/wiki) plot \n",
        "This plot will be saved as html and can be opened in a browser."
      ],
      "metadata": {
        "id": "gQyDHROJPVxS"
      }
    },
    {
      "cell_type": "code",
      "source": [
        "# Install Krona from source\n",
        "!git clone https://github.com/marbl/Krona.git && cd Krona && ./install.pl"
      ],
      "metadata": {
        "id": "_RoF_yapQUWu"
      },
      "execution_count": null,
      "outputs": []
    },
    {
      "cell_type": "code",
      "source": [
        "master = pd.DataFrame()\n",
        "for idx, timepoint in enumerate(adata.obs[\"dpi_clean\"].unique()):\n",
        "    for animal_id in adata.obs[adata.obs[\"dpi_clean\"] == timepoint][\"donor_animal\"].unique():\n",
        "        adata_temp = adata[(adata.obs[\"dpi_clean\"] == timepoint) & (adata.obs[\"donor_animal\"] == animal_id), :]\n",
        "\n",
        "        # Add total number of counts (across all cells) for each virus ID to phylogeny data temp\n",
        "        virus_ids = adata_temp.var.index.values\n",
        "        total_counts = nd(adata_temp.X.sum(axis=0))\n",
        "        total_count_dict = {virus_ids[i]: total_counts[i] for i in range(len(virus_ids))}\n",
        "\n",
        "        phylogeny_data_temp = phylogeny_data.copy()\n",
        "        phylogeny_data_temp['total_count'] = phylogeny_data_temp['Label'].map(total_count_dict)\n",
        "\n",
        "        # Remove all viruses that were only detected in less than num_cells_threshold cells\n",
        "        phylogeny_data_temp = phylogeny_data_temp[phylogeny_data_temp[\"total_count\"] >= num_cells_threshold]\n",
        "\n",
        "        # Remove non-relevent columns and change order of columns  \n",
        "        phylogeny_data_temp = phylogeny_data_temp[[\"total_count\", \"phylum\", \"class\", \"order\", \"family\", \"genus\", \"species\", \"Label\"]]\n",
        "\n",
        "        # Replace dots with NaN\n",
        "        phylogeny_data_temp = phylogeny_data_temp.replace(\".\", np.nan)\n",
        "\n",
        "        # Add column with timepoint\n",
        "        phylogeny_data_temp[\"timepoint\"] = timepoint\n",
        "\n",
        "        # Add column with animal id\n",
        "        phylogeny_data_temp[\"animal_id\"] = animal_id\n",
        "\n",
        "        # Append to master dataframe\n",
        "        if idx == 0:\n",
        "            master = phylogeny_data_temp.copy()\n",
        "        else:\n",
        "            master = master.append(phylogeny_data_temp)\n",
        "\n",
        "# Save counts + taxnomomies data to txt file\n",
        "master.to_csv(f'krona.txt', sep ='\\t', header=None, index=False)\n",
        "\n",
        "# Generate Krona plot\n",
        "krona_out = \"figures/krona.html\"\n",
        "!$ktImportText krona.txt -o $krona_out -n \"Viral RNAs\""
      ],
      "metadata": {
        "id": "cNfWG2_yPTkO"
      },
      "execution_count": null,
      "outputs": []
    }
  ]
}